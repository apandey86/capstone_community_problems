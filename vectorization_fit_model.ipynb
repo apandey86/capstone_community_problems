{
 "cells": [
  {
   "cell_type": "code",
   "execution_count": 27,
   "metadata": {},
   "outputs": [
    {
     "name": "stdout",
     "output_type": "stream",
     "text": [
      "[nltk_data] Downloading package stopwords to\n",
      "[nltk_data]     C:\\Users\\Anuroop\\AppData\\Roaming\\nltk_data...\n",
      "[nltk_data]   Package stopwords is already up-to-date!\n"
     ]
    }
   ],
   "source": [
    "import pandas as pd\n",
    "pd.set_option('display.max_colwidth', 0) #To display entire text content of a column\n",
    "import numpy as np\n",
    "import seaborn as sns\n",
    "import matplotlib.pyplot as plt\n",
    "%matplotlib inline\n",
    "%config InlineBackend.figure_format='retina'\n",
    "from sklearn.linear_model import LogisticRegression\n",
    "from sklearn.decomposition import PCA\n",
    "from sklearn.tree import DecisionTreeClassifier\n",
    "from sklearn.tree import plot_tree\n",
    "from sklearn.model_selection import train_test_split\n",
    "from sklearn.model_selection import GridSearchCV\n",
    "from sklearn.pipeline import Pipeline\n",
    "from sklearn.model_selection import cross_val_score\n",
    "from sklearn.metrics import confusion_matrix, ConfusionMatrixDisplay\n",
    "from sklearn.feature_extraction.text import CountVectorizer\n",
    "import nltk\n",
    "nltk.download('stopwords')\n",
    "from nltk.corpus import stopwords\n",
    "import timeit\n",
    "import os\n",
    "import pickle\n",
    "import joblib as joblib"
   ]
  },
  {
   "cell_type": "code",
   "execution_count": 2,
   "metadata": {},
   "outputs": [],
   "source": [
    "os.chdir('D:\\capstone_data\\processed_csv\\master_data_clean_sent140_cmplnts_mixed')"
   ]
  },
  {
   "cell_type": "code",
   "execution_count": 14,
   "metadata": {},
   "outputs": [],
   "source": [
    "#Read csv\n",
    "tweet_complaints_df =  pd.read_csv('sent140_cmplnts_50k_clean.csv')"
   ]
  },
  {
   "cell_type": "code",
   "execution_count": 15,
   "metadata": {},
   "outputs": [
    {
     "data": {
      "text/plain": [
       "(50498, 2)"
      ]
     },
     "metadata": {},
     "output_type": "display_data"
    },
    {
     "data": {
      "text/html": [
       "<div>\n",
       "<style scoped>\n",
       "    .dataframe tbody tr th:only-of-type {\n",
       "        vertical-align: middle;\n",
       "    }\n",
       "\n",
       "    .dataframe tbody tr th {\n",
       "        vertical-align: top;\n",
       "    }\n",
       "\n",
       "    .dataframe thead th {\n",
       "        text-align: right;\n",
       "    }\n",
       "</style>\n",
       "<table border=\"1\" class=\"dataframe\">\n",
       "  <thead>\n",
       "    <tr style=\"text-align: right;\">\n",
       "      <th></th>\n",
       "      <th>label</th>\n",
       "      <th>clean_text</th>\n",
       "    </tr>\n",
       "  </thead>\n",
       "  <tbody>\n",
       "    <tr>\n",
       "      <th>50496</th>\n",
       "      <td>1</td>\n",
       "      <td>trouble in iran  i see  hmm  iran  iran so far away</td>\n",
       "    </tr>\n",
       "    <tr>\n",
       "      <th>50497</th>\n",
       "      <td>1</td>\n",
       "      <td>reading the tweets coming out of iran  the whole thing is terrifying and incredibly sad</td>\n",
       "    </tr>\n",
       "  </tbody>\n",
       "</table>\n",
       "</div>"
      ],
      "text/plain": [
       "       label  \\\n",
       "50496  1       \n",
       "50497  1       \n",
       "\n",
       "                                                                                      clean_text  \n",
       "50496  trouble in iran  i see  hmm  iran  iran so far away                                        \n",
       "50497  reading the tweets coming out of iran  the whole thing is terrifying and incredibly sad    "
      ]
     },
     "metadata": {},
     "output_type": "display_data"
    }
   ],
   "source": [
    "#verify\n",
    "display(tweet_complaints_df.shape)\n",
    "display(tweet_complaints_df.tail(2))"
   ]
  },
  {
   "cell_type": "markdown",
   "metadata": {},
   "source": [
    "# Bag of Words model"
   ]
  },
  {
   "cell_type": "code",
   "execution_count": 16,
   "metadata": {},
   "outputs": [
    {
     "data": {
      "text/plain": [
       "0     lol  damm u make commision when she wins  nicee  btw  what do u play when ure there \n",
       "Name: clean_text, dtype: object"
      ]
     },
     "metadata": {},
     "output_type": "display_data"
    },
    {
     "data": {
      "text/plain": [
       "0    0\n",
       "Name: label, dtype: int64"
      ]
     },
     "metadata": {},
     "output_type": "display_data"
    }
   ],
   "source": [
    "#Features\n",
    "X = tweet_complaints_df['clean_text']\n",
    "display(X.head(1))\n",
    "#Target\n",
    "y = tweet_complaints_df['label']\n",
    "display(y.head(1))"
   ]
  },
  {
   "cell_type": "code",
   "execution_count": 17,
   "metadata": {},
   "outputs": [],
   "source": [
    "#train test split before vectorization to avoid information being carried over to test set\n",
    "X_train, X_test, y_train, y_test = train_test_split(X, y, test_size = 0.1, \n",
    "                                                    random_state = 7)"
   ]
  },
  {
   "cell_type": "code",
   "execution_count": 18,
   "metadata": {},
   "outputs": [
    {
     "data": {
      "text/plain": [
       "(45448,)"
      ]
     },
     "metadata": {},
     "output_type": "display_data"
    },
    {
     "data": {
      "text/plain": [
       "(5050,)"
      ]
     },
     "metadata": {},
     "output_type": "display_data"
    },
    {
     "data": {
      "text/plain": [
       "(45448,)"
      ]
     },
     "metadata": {},
     "output_type": "display_data"
    },
    {
     "data": {
      "text/plain": [
       "(5050,)"
      ]
     },
     "metadata": {},
     "output_type": "display_data"
    }
   ],
   "source": [
    "#Verify\n",
    "display(X_train.shape)\n",
    "display(X_test.shape)\n",
    "display(y_train.shape)\n",
    "display(y_test.shape)"
   ]
  },
  {
   "cell_type": "code",
   "execution_count": 9,
   "metadata": {},
   "outputs": [],
   "source": [
    "#Create a stemmer object\n",
    "stemmer = nltk.PorterStemmer()\n",
    "ENGLISH_STOP_WORDS = stopwords.words('english')"
   ]
  },
  {
   "cell_type": "code",
   "execution_count": 11,
   "metadata": {},
   "outputs": [],
   "source": [
    "#Custom tokenizer to stem and remove stopwords\n",
    "def my_tokenizer(sentence):\n",
    "   # split sentence into words\n",
    "    listofwords = sentence.split(' ')\n",
    "    listofstemmed_words = []\n",
    "    \n",
    "    # remove stopwords and any tokens that are just empty strings\n",
    "    for word in listofwords:\n",
    "        if (not word in ENGLISH_STOP_WORDS) and (word!=''):\n",
    "            # Stem words\n",
    "            stemmed_word = stemmer.stem(word)\n",
    "            listofstemmed_words.append(stemmed_word)\n",
    "\n",
    "    return listofstemmed_words"
   ]
  },
  {
   "cell_type": "code",
   "execution_count": 24,
   "metadata": {
    "scrolled": true
   },
   "outputs": [
    {
     "name": "stderr",
     "output_type": "stream",
     "text": [
      "C:\\Users\\Anuroop\\AppData\\Roaming\\Python\\Python37\\site-packages\\sklearn\\feature_extraction\\text.py:489: UserWarning: The parameter 'token_pattern' will not be used since 'tokenizer' is not None'\n",
      "  warnings.warn(\"The parameter 'token_pattern' will not be used\"\n"
     ]
    },
    {
     "data": {
      "text/plain": [
       "(45448, 642)"
      ]
     },
     "metadata": {},
     "output_type": "display_data"
    },
    {
     "data": {
      "text/plain": [
       "(5050, 642)"
      ]
     },
     "metadata": {},
     "output_type": "display_data"
    }
   ],
   "source": [
    "#Instantiate using custom tokenizer and only words that appear in atleast 1% of documents\n",
    "bagofwords = CountVectorizer(tokenizer = my_tokenizer, min_df = 0.01)\n",
    "\n",
    "#Fit vectorizer on X_train \n",
    "bagofwords.fit(X_train)\n",
    "\n",
    "#Transform\n",
    "X_train_transformed = bagofwords.transform(X_train)\n",
    "X_test_transformed = bagofwords.transform(X_test)\n",
    "\n",
    "#Check number of features in train and test\n",
    "display(X_train_transformed.shape)\n",
    "display(X_test_transformed.shape)"
   ]
  },
  {
   "cell_type": "markdown",
   "metadata": {},
   "source": [
    "We have 642 features when transformed with bag of words model"
   ]
  },
  {
   "cell_type": "code",
   "execution_count": 23,
   "metadata": {},
   "outputs": [
    {
     "data": {
      "text/html": [
       "<div>\n",
       "<style scoped>\n",
       "    .dataframe tbody tr th:only-of-type {\n",
       "        vertical-align: middle;\n",
       "    }\n",
       "\n",
       "    .dataframe tbody tr th {\n",
       "        vertical-align: top;\n",
       "    }\n",
       "\n",
       "    .dataframe thead th {\n",
       "        text-align: right;\n",
       "    }\n",
       "</style>\n",
       "<table border=\"1\" class=\"dataframe\">\n",
       "  <thead>\n",
       "    <tr style=\"text-align: right;\">\n",
       "      <th></th>\n",
       "      <th>abl</th>\n",
       "      <th>absolut</th>\n",
       "      <th>accept</th>\n",
       "      <th>access</th>\n",
       "      <th>account</th>\n",
       "      <th>action</th>\n",
       "      <th>activ</th>\n",
       "      <th>actual</th>\n",
       "      <th>ad</th>\n",
       "      <th>add</th>\n",
       "      <th>...</th>\n",
       "      <th>worth</th>\n",
       "      <th>would</th>\n",
       "      <th>write</th>\n",
       "      <th>wrong</th>\n",
       "      <th>x</th>\n",
       "      <th>xx</th>\n",
       "      <th>ye</th>\n",
       "      <th>year</th>\n",
       "      <th>yet</th>\n",
       "      <th>zoom</th>\n",
       "    </tr>\n",
       "  </thead>\n",
       "  <tbody>\n",
       "    <tr>\n",
       "      <th>0</th>\n",
       "      <td>0</td>\n",
       "      <td>0</td>\n",
       "      <td>0</td>\n",
       "      <td>0</td>\n",
       "      <td>0</td>\n",
       "      <td>0</td>\n",
       "      <td>0</td>\n",
       "      <td>0</td>\n",
       "      <td>0</td>\n",
       "      <td>0</td>\n",
       "      <td>...</td>\n",
       "      <td>0</td>\n",
       "      <td>0</td>\n",
       "      <td>0</td>\n",
       "      <td>0</td>\n",
       "      <td>0</td>\n",
       "      <td>0</td>\n",
       "      <td>0</td>\n",
       "      <td>0</td>\n",
       "      <td>0</td>\n",
       "      <td>0</td>\n",
       "    </tr>\n",
       "  </tbody>\n",
       "</table>\n",
       "<p>1 rows × 642 columns</p>\n",
       "</div>"
      ],
      "text/plain": [
       "   abl  absolut  accept  access  account  action  activ  actual  ad  add  \\\n",
       "0  0    0        0       0       0        0       0      0       0   0     \n",
       "\n",
       "   ...   worth  would  write  wrong  x  xx  ye  year  yet  zoom  \n",
       "0  ...   0      0      0      0      0  0   0   0     0    0     \n",
       "\n",
       "[1 rows x 642 columns]"
      ]
     },
     "metadata": {},
     "output_type": "display_data"
    },
    {
     "data": {
      "text/html": [
       "<div>\n",
       "<style scoped>\n",
       "    .dataframe tbody tr th:only-of-type {\n",
       "        vertical-align: middle;\n",
       "    }\n",
       "\n",
       "    .dataframe tbody tr th {\n",
       "        vertical-align: top;\n",
       "    }\n",
       "\n",
       "    .dataframe thead th {\n",
       "        text-align: right;\n",
       "    }\n",
       "</style>\n",
       "<table border=\"1\" class=\"dataframe\">\n",
       "  <thead>\n",
       "    <tr style=\"text-align: right;\">\n",
       "      <th></th>\n",
       "      <th>abl</th>\n",
       "      <th>absolut</th>\n",
       "      <th>accept</th>\n",
       "      <th>access</th>\n",
       "      <th>account</th>\n",
       "      <th>action</th>\n",
       "      <th>activ</th>\n",
       "      <th>actual</th>\n",
       "      <th>ad</th>\n",
       "      <th>add</th>\n",
       "      <th>...</th>\n",
       "      <th>worth</th>\n",
       "      <th>would</th>\n",
       "      <th>write</th>\n",
       "      <th>wrong</th>\n",
       "      <th>x</th>\n",
       "      <th>xx</th>\n",
       "      <th>ye</th>\n",
       "      <th>year</th>\n",
       "      <th>yet</th>\n",
       "      <th>zoom</th>\n",
       "    </tr>\n",
       "  </thead>\n",
       "  <tbody>\n",
       "    <tr>\n",
       "      <th>0</th>\n",
       "      <td>0</td>\n",
       "      <td>0</td>\n",
       "      <td>0</td>\n",
       "      <td>0</td>\n",
       "      <td>0</td>\n",
       "      <td>0</td>\n",
       "      <td>0</td>\n",
       "      <td>0</td>\n",
       "      <td>0</td>\n",
       "      <td>0</td>\n",
       "      <td>...</td>\n",
       "      <td>0</td>\n",
       "      <td>0</td>\n",
       "      <td>0</td>\n",
       "      <td>0</td>\n",
       "      <td>0</td>\n",
       "      <td>0</td>\n",
       "      <td>0</td>\n",
       "      <td>0</td>\n",
       "      <td>0</td>\n",
       "      <td>0</td>\n",
       "    </tr>\n",
       "  </tbody>\n",
       "</table>\n",
       "<p>1 rows × 642 columns</p>\n",
       "</div>"
      ],
      "text/plain": [
       "   abl  absolut  accept  access  account  action  activ  actual  ad  add  \\\n",
       "0  0    0        0       0       0        0       0      0       0   0     \n",
       "\n",
       "   ...   worth  would  write  wrong  x  xx  ye  year  yet  zoom  \n",
       "0  ...   0      0      0      0      0  0   0   0     0    0     \n",
       "\n",
       "[1 rows x 642 columns]"
      ]
     },
     "metadata": {},
     "output_type": "display_data"
    }
   ],
   "source": [
    "#Create a df of transformed data\n",
    "X_train_transformed_df = pd.DataFrame(columns = bagofwords.get_feature_names(),\n",
    "                                     data = X_train_transformed.toarray())\n",
    "display(X_train_transformed_df.head(1))\n",
    "\n",
    "X_test_transformed_df = pd.DataFrame(columns = bagofwords.get_feature_names(),\n",
    "                                     data = X_test_transformed.toarray())\n",
    "display(X_test_transformed_df.head(1))\n"
   ]
  },
  {
   "cell_type": "code",
   "execution_count": 14,
   "metadata": {},
   "outputs": [],
   "source": [
    "#Top 20 most frequent words\n",
    "top_20_words = X_train_transformed_df.sum(axis = 0).sort_values(ascending = False)[:19]"
   ]
  },
  {
   "cell_type": "code",
   "execution_count": 15,
   "metadata": {},
   "outputs": [
    {
     "data": {
      "image/png": "[encoded data removed]",
      "text/plain": [
       "<Figure size 720x720 with 1 Axes>"
      ]
     },
     "metadata": {
      "image/png": {
       "height": 612,
       "width": 634
      },
      "needs_background": "light"
     },
     "output_type": "display_data"
    }
   ],
   "source": [
    "#Visualize vectorized data\n",
    "plt.figure(figsize =(10,10))\n",
    "plt.barh(top_20_words.index, top_20_words.values)\n",
    "plt.xlabel(\"Count\")\n",
    "plt.xticks(rotation = 90)\n",
    "#plt.xlim(100,35000)\n",
    "plt.ylabel(\"Tokens\")\n",
    "plt.show()"
   ]
  },
  {
   "cell_type": "markdown",
   "metadata": {},
   "source": [
    "# First fit - Logistic Regression"
   ]
  },
  {
   "cell_type": "code",
   "execution_count": 16,
   "metadata": {},
   "outputs": [
    {
     "name": "stderr",
     "output_type": "stream",
     "text": [
      "C:\\Users\\Anuroop\\AppData\\Roaming\\Python\\Python37\\site-packages\\sklearn\\linear_model\\_logistic.py:765: ConvergenceWarning: lbfgs failed to converge (status=1):\n",
      "STOP: TOTAL NO. of ITERATIONS REACHED LIMIT.\n",
      "\n",
      "Increase the number of iterations (max_iter) or scale the data as shown in:\n",
      "    https://scikit-learn.org/stable/modules/preprocessing.html\n",
      "Please also refer to the documentation for alternative solver options:\n",
      "    https://scikit-learn.org/stable/modules/linear_model.html#logistic-regression\n",
      "  extra_warning_msg=_LOGISTIC_SOLVER_CONVERGENCE_MSG)\n"
     ]
    },
    {
     "data": {
      "text/plain": [
       "LogisticRegression()"
      ]
     },
     "execution_count": 16,
     "metadata": {},
     "output_type": "execute_result"
    }
   ],
   "source": [
    "# Fit a logistic regression model\n",
    "log_reg = LogisticRegression()\n",
    "log_reg.fit(X_train_transformed_df, y_train)"
   ]
  },
  {
   "cell_type": "code",
   "execution_count": 25,
   "metadata": {},
   "outputs": [
    {
     "name": "stdout",
     "output_type": "stream",
     "text": [
      "The accuracy of unoptimized Log reg model on train set is: 0.79\n",
      "The accuracy of unoptimized Log reg model on train set is: 0.78\n"
     ]
    }
   ],
   "source": [
    "#Accuracy\n",
    "print(f\"The accuracy of unoptimized Log reg model on train set is: {round(log_reg.score(X_train_transformed_df,y_train),2)}\")\n",
    "print(f\"The accuracy of unoptimized Log reg model on train set is: {round(log_reg.score(X_test_transformed_df,y_test),2)}\")"
   ]
  },
  {
   "cell_type": "markdown",
   "metadata": {},
   "source": [
    "Good accuracies from unoptimized logistic regression model. **Low bias and low variance**.\n"
   ]
  },
  {
   "cell_type": "code",
   "execution_count": 17,
   "metadata": {},
   "outputs": [
    {
     "data": {
      "text/html": [
       "<div>\n",
       "<style scoped>\n",
       "    .dataframe tbody tr th:only-of-type {\n",
       "        vertical-align: middle;\n",
       "    }\n",
       "\n",
       "    .dataframe tbody tr th {\n",
       "        vertical-align: top;\n",
       "    }\n",
       "\n",
       "    .dataframe thead th {\n",
       "        text-align: right;\n",
       "    }\n",
       "</style>\n",
       "<table border=\"1\" class=\"dataframe\">\n",
       "  <thead>\n",
       "    <tr style=\"text-align: right;\">\n",
       "      <th></th>\n",
       "      <th>abl</th>\n",
       "      <th>absolut</th>\n",
       "      <th>accept</th>\n",
       "      <th>access</th>\n",
       "      <th>account</th>\n",
       "      <th>action</th>\n",
       "      <th>activ</th>\n",
       "      <th>actual</th>\n",
       "      <th>ad</th>\n",
       "      <th>add</th>\n",
       "      <th>...</th>\n",
       "      <th>worth</th>\n",
       "      <th>would</th>\n",
       "      <th>write</th>\n",
       "      <th>wrong</th>\n",
       "      <th>x</th>\n",
       "      <th>xx</th>\n",
       "      <th>ye</th>\n",
       "      <th>year</th>\n",
       "      <th>yet</th>\n",
       "      <th>zoom</th>\n",
       "    </tr>\n",
       "  </thead>\n",
       "  <tbody>\n",
       "    <tr>\n",
       "      <th>coef</th>\n",
       "      <td>0.05269</td>\n",
       "      <td>0.432487</td>\n",
       "      <td>0.026085</td>\n",
       "      <td>-0.024604</td>\n",
       "      <td>0.588208</td>\n",
       "      <td>0.240271</td>\n",
       "      <td>0.0527</td>\n",
       "      <td>0.029078</td>\n",
       "      <td>-0.397349</td>\n",
       "      <td>-0.800494</td>\n",
       "      <td>...</td>\n",
       "      <td>0.097448</td>\n",
       "      <td>0.150801</td>\n",
       "      <td>-0.160487</td>\n",
       "      <td>0.491234</td>\n",
       "      <td>-0.185854</td>\n",
       "      <td>0.877715</td>\n",
       "      <td>-0.611887</td>\n",
       "      <td>0.051563</td>\n",
       "      <td>-0.269671</td>\n",
       "      <td>0.01005</td>\n",
       "    </tr>\n",
       "  </tbody>\n",
       "</table>\n",
       "<p>1 rows × 642 columns</p>\n",
       "</div>"
      ],
      "text/plain": [
       "          abl   absolut    accept    access   account    action   activ  \\\n",
       "coef  0.05269  0.432487  0.026085 -0.024604  0.588208  0.240271  0.0527   \n",
       "\n",
       "        actual        ad       add   ...        worth     would     write  \\\n",
       "coef  0.029078 -0.397349 -0.800494   ...     0.097448  0.150801 -0.160487   \n",
       "\n",
       "         wrong         x        xx        ye      year       yet     zoom  \n",
       "coef  0.491234 -0.185854  0.877715 -0.611887  0.051563 -0.269671  0.01005  \n",
       "\n",
       "[1 rows x 642 columns]"
      ]
     },
     "execution_count": 17,
     "metadata": {},
     "output_type": "execute_result"
    }
   ],
   "source": [
    "#Create a df for feature coefficients\n",
    "coef_df = pd.DataFrame(data = log_reg.coef_, columns = X_train_transformed_df.columns, \n",
    "                       index = ['coef'])\n",
    "coef_df.tail()\n"
   ]
  },
  {
   "cell_type": "code",
   "execution_count": 96,
   "metadata": {},
   "outputs": [
    {
     "data": {
      "text/html": [
       "<div>\n",
       "<style scoped>\n",
       "    .dataframe tbody tr th:only-of-type {\n",
       "        vertical-align: middle;\n",
       "    }\n",
       "\n",
       "    .dataframe tbody tr th {\n",
       "        vertical-align: top;\n",
       "    }\n",
       "\n",
       "    .dataframe thead th {\n",
       "        text-align: right;\n",
       "    }\n",
       "</style>\n",
       "<table border=\"1\" class=\"dataframe\">\n",
       "  <thead>\n",
       "    <tr style=\"text-align: right;\">\n",
       "      <th></th>\n",
       "      <th>sad</th>\n",
       "      <th>debt</th>\n",
       "      <th>mortgag</th>\n",
       "      <th>terribl</th>\n",
       "      <th>worst</th>\n",
       "      <th>loan</th>\n",
       "      <th>refus</th>\n",
       "      <th>poor</th>\n",
       "      <th>wast</th>\n",
       "      <th>owe</th>\n",
       "      <th>...</th>\n",
       "      <th>disappoint</th>\n",
       "      <th>collect</th>\n",
       "      <th>fail</th>\n",
       "      <th>miss</th>\n",
       "      <th>sorri</th>\n",
       "      <th>disput</th>\n",
       "      <th>die</th>\n",
       "      <th>lost</th>\n",
       "      <th>agenc</th>\n",
       "      <th>unfortun</th>\n",
       "    </tr>\n",
       "  </thead>\n",
       "  <tbody>\n",
       "    <tr>\n",
       "      <th>coef</th>\n",
       "      <td>2.629518</td>\n",
       "      <td>2.267624</td>\n",
       "      <td>2.127929</td>\n",
       "      <td>2.11724</td>\n",
       "      <td>1.869074</td>\n",
       "      <td>1.705818</td>\n",
       "      <td>1.672738</td>\n",
       "      <td>1.598766</td>\n",
       "      <td>1.557166</td>\n",
       "      <td>1.51396</td>\n",
       "      <td>...</td>\n",
       "      <td>1.234415</td>\n",
       "      <td>1.230626</td>\n",
       "      <td>1.200864</td>\n",
       "      <td>1.168563</td>\n",
       "      <td>1.159069</td>\n",
       "      <td>1.146638</td>\n",
       "      <td>1.122186</td>\n",
       "      <td>1.052916</td>\n",
       "      <td>0.982712</td>\n",
       "      <td>0.948228</td>\n",
       "    </tr>\n",
       "  </tbody>\n",
       "</table>\n",
       "<p>1 rows × 24 columns</p>\n",
       "</div>"
      ],
      "text/plain": [
       "           sad      debt   mortgag  terribl     worst      loan     refus  \\\n",
       "coef  2.629518  2.267624  2.127929  2.11724  1.869074  1.705818  1.672738   \n",
       "\n",
       "          poor      wast      owe    ...     disappoint   collect      fail  \\\n",
       "coef  1.598766  1.557166  1.51396    ...     1.234415    1.230626  1.200864   \n",
       "\n",
       "          miss     sorri    disput       die      lost     agenc  unfortun  \n",
       "coef  1.168563  1.159069  1.146638  1.122186  1.052916  0.982712  0.948228  \n",
       "\n",
       "[1 rows x 24 columns]"
      ]
     },
     "execution_count": 96,
     "metadata": {},
     "output_type": "execute_result"
    }
   ],
   "source": [
    "#Top 25 words \n",
    "coef_df_top_25 = coef_df.sort_values(by ='coef', axis = 1, ascending = False).iloc[:,:24]\n",
    "coef_df_top_25"
   ]
  },
  {
   "cell_type": "code",
   "execution_count": 98,
   "metadata": {},
   "outputs": [
    {
     "data": {
      "image/png": "[encoded data removed]",
      "text/plain": [
       "<Figure size 720x720 with 1 Axes>"
      ]
     },
     "metadata": {
      "image/png": {
       "height": 610,
       "width": 647
      },
      "needs_background": "light"
     },
     "output_type": "display_data"
    }
   ],
   "source": [
    "#Visualize top 25 words\n",
    "plt.figure(figsize =(10,10))\n",
    "plt.barh(coef_df_top_25.loc['coef'].index, coef_df_top_25.loc['coef'].values)\n",
    "plt.xlabel(\"coefficients\")\n",
    "plt.xticks(rotation = 90)\n",
    "plt.ylabel(\"Words\")\n",
    "plt.title('25 most predictive words for greivance')\n",
    "plt.show()"
   ]
  },
  {
   "cell_type": "markdown",
   "metadata": {},
   "source": [
    "Most words are negative but **certain words represent financial products** like Mortgage, debt, loan. This is due to the fact that our model was trained on a dataset that comprises of complaints against financial products as one form of greivance. Also high coefficient values for these feature indicates that the model is very biased towards certain products and may not be able generalize. To adress this problem, we have to **explore original features of datasets and find a way to extract product names** which will then be eliminated by **creating a product specific filter in our custom tokenizer.** Sentiment 140 dataset does not need to revisited as it comprises of generic tweets rather than text about a targeted product.\n",
    "However it must be noted that **same tokenizer cannot be used for the 2nd part of project i.e. Topic modelling** because then the model will fail to model topics for filtered products."
   ]
  },
  {
   "cell_type": "markdown",
   "metadata": {},
   "source": [
    "# Extract product names from consumer_complaints"
   ]
  },
  {
   "cell_type": "code",
   "execution_count": 56,
   "metadata": {},
   "outputs": [
    {
     "data": {
      "text/html": [
       "<div>\n",
       "<style scoped>\n",
       "    .dataframe tbody tr th:only-of-type {\n",
       "        vertical-align: middle;\n",
       "    }\n",
       "\n",
       "    .dataframe tbody tr th {\n",
       "        vertical-align: top;\n",
       "    }\n",
       "\n",
       "    .dataframe thead th {\n",
       "        text-align: right;\n",
       "    }\n",
       "</style>\n",
       "<table border=\"1\" class=\"dataframe\">\n",
       "  <thead>\n",
       "    <tr style=\"text-align: right;\">\n",
       "      <th></th>\n",
       "      <th>Date received</th>\n",
       "      <th>Product</th>\n",
       "      <th>Sub-product</th>\n",
       "      <th>Issue</th>\n",
       "      <th>Sub-issue</th>\n",
       "      <th>Consumer complaint narrative</th>\n",
       "      <th>Company public response</th>\n",
       "      <th>Company</th>\n",
       "      <th>State</th>\n",
       "      <th>ZIP code</th>\n",
       "      <th>Tags</th>\n",
       "      <th>Consumer consent provided?</th>\n",
       "      <th>Submitted via</th>\n",
       "      <th>Date sent to company</th>\n",
       "      <th>Company response to consumer</th>\n",
       "      <th>Timely response?</th>\n",
       "      <th>Consumer disputed?</th>\n",
       "      <th>Complaint ID</th>\n",
       "    </tr>\n",
       "  </thead>\n",
       "  <tbody>\n",
       "    <tr>\n",
       "      <th>903982</th>\n",
       "      <td>8/19/2016</td>\n",
       "      <td>Debt collection</td>\n",
       "      <td>Payday loan</td>\n",
       "      <td>Cont'd attempts collect debt not owed</td>\n",
       "      <td>Debt is not mine</td>\n",
       "      <td>I had a debit that was included in my chapter XXXX BK, almost two years letter this item showed on my credit reports under collection status for Midwest Recovery Systems. This dropped my credit score XXXX points. I called them and they said their client had n't informed them that it was included in BK, but the damage had already been done. It took them 30 days to remove this incorrectly put item on my credit reports. Its still showing up on my XXXX. I thought this was against the law for them to do that since I am protected by BK laws. They should be fined for this. I should sue.</td>\n",
       "      <td>Company believes it acted appropriately as authorized by contract or law</td>\n",
       "      <td>Midwest Recovery Systems</td>\n",
       "      <td>FL</td>\n",
       "      <td>336XX</td>\n",
       "      <td>NaN</td>\n",
       "      <td>Consent provided</td>\n",
       "      <td>Web</td>\n",
       "      <td>8/19/2016</td>\n",
       "      <td>Closed with explanation</td>\n",
       "      <td>Yes</td>\n",
       "      <td>Yes</td>\n",
       "      <td>2073214</td>\n",
       "    </tr>\n",
       "  </tbody>\n",
       "</table>\n",
       "</div>"
      ],
      "text/plain": [
       "       Date received          Product  Sub-product  \\\n",
       "903982  8/19/2016     Debt collection  Payday loan   \n",
       "\n",
       "                                        Issue         Sub-issue  \\\n",
       "903982  Cont'd attempts collect debt not owed  Debt is not mine   \n",
       "\n",
       "                                                                                                                                                                                                                                                                                                                                                                                                                                                                                                                                                                                      Consumer complaint narrative  \\\n",
       "903982  I had a debit that was included in my chapter XXXX BK, almost two years letter this item showed on my credit reports under collection status for Midwest Recovery Systems. This dropped my credit score XXXX points. I called them and they said their client had n't informed them that it was included in BK, but the damage had already been done. It took them 30 days to remove this incorrectly put item on my credit reports. Its still showing up on my XXXX. I thought this was against the law for them to do that since I am protected by BK laws. They should be fined for this. I should sue.   \n",
       "\n",
       "                                                         Company public response  \\\n",
       "903982  Company believes it acted appropriately as authorized by contract or law   \n",
       "\n",
       "                         Company State ZIP code Tags  \\\n",
       "903982  Midwest Recovery Systems  FL    336XX    NaN   \n",
       "\n",
       "       Consumer consent provided? Submitted via Date sent to company  \\\n",
       "903982  Consent provided           Web           8/19/2016             \n",
       "\n",
       "       Company response to consumer Timely response? Consumer disputed?  \\\n",
       "903982  Closed with explanation      Yes              Yes                 \n",
       "\n",
       "        Complaint ID  \n",
       "903982  2073214       "
      ]
     },
     "execution_count": 56,
     "metadata": {},
     "output_type": "execute_result"
    }
   ],
   "source": [
    "#Read from original csv\n",
    "consumer_complaints =  pd.read_csv('D:\\capstone_data\\Consumer_Complaints.csv', na_values = None)\n",
    "consumer_complaints.tail(1)"
   ]
  },
  {
   "cell_type": "code",
   "execution_count": 58,
   "metadata": {},
   "outputs": [],
   "source": [
    "#filtering only rows where 'Consumer complaint narrative' is not null\n",
    "#because we will work with observations with narrtives only\n",
    "consumer_complaints_narrative_notnull = consumer_complaints[\n",
    "    consumer_complaints['Consumer complaint narrative'].isna() == False]"
   ]
  },
  {
   "cell_type": "markdown",
   "metadata": {},
   "source": [
    "It seems to very straightforward, we can just extract unique values of feature `Product`"
   ]
  },
  {
   "cell_type": "code",
   "execution_count": 59,
   "metadata": {},
   "outputs": [
    {
     "data": {
      "text/plain": [
       "array(['Credit reporting', 'Consumer Loan', 'Debt collection', 'Mortgage',\n",
       "       'Credit card', 'Other financial service',\n",
       "       'Bank account or service', 'Student loan', 'Money transfers',\n",
       "       'Payday loan', 'Prepaid card', 'Virtual currency',\n",
       "       'Credit reporting, credit repair services, or other personal consumer reports',\n",
       "       'Credit card or prepaid card', 'Checking or savings account',\n",
       "       'Payday loan, title loan, or personal loan',\n",
       "       'Vehicle loan or lease',\n",
       "       'Money transfer, virtual currency, or money service'], dtype=object)"
      ]
     },
     "execution_count": 59,
     "metadata": {},
     "output_type": "execute_result"
    }
   ],
   "source": [
    "#Product unique values\n",
    "fin_prods = consumer_complaints_narrative_notnull['Product'].unique()\n",
    "fin_prods"
   ]
  },
  {
   "cell_type": "code",
   "execution_count": 65,
   "metadata": {},
   "outputs": [
    {
     "data": {
      "text/plain": [
       "Debt collection                                                                 0.239611\n",
       "Mortgage                                                                        0.182937\n",
       "Credit reporting                                                                0.157984\n",
       "Credit card                                                                     0.094224\n",
       "Bank account or service                                                         0.074451\n",
       "Credit reporting, credit repair services, or other personal consumer reports    0.073366\n",
       "Student loan                                                                    0.066530\n",
       "Consumer Loan                                                                   0.047377\n",
       "Credit card or prepaid card                                                     0.016778\n",
       "Checking or savings account                                                     0.010712\n",
       "Payday loan                                                                     0.008741\n",
       "Money transfers                                                                 0.007481\n",
       "Prepaid card                                                                    0.007256\n",
       "Vehicle loan or lease                                                           0.004106\n",
       "Payday loan, title loan, or personal loan                                       0.003486\n",
       "Money transfer, virtual currency, or money service                              0.003421\n",
       "Other financial service                                                         0.001460\n",
       "Virtual currency                                                                0.000080\n",
       "Name: Product, dtype: float64"
      ]
     },
     "execution_count": 65,
     "metadata": {},
     "output_type": "execute_result"
    }
   ],
   "source": [
    "#Product names and corresponding fraction of complaints for each\n",
    "consumer_complaints_narrative_notnull['Product'].value_counts() \\\n",
    "/len(consumer_complaints_narrative_notnull)"
   ]
  },
  {
   "cell_type": "code",
   "execution_count": 62,
   "metadata": {
    "scrolled": true
   },
   "outputs": [
    {
     "data": {
      "text/plain": [
       "Debt collection                                                                 0.239611\n",
       "Mortgage                                                                        0.422548\n",
       "Credit reporting                                                                0.580532\n",
       "Credit card                                                                     0.674756\n",
       "Bank account or service                                                         0.749207\n",
       "Credit reporting, credit repair services, or other personal consumer reports    0.822573\n",
       "Student loan                                                                    0.889103\n",
       "Consumer Loan                                                                   0.936480\n",
       "Credit card or prepaid card                                                     0.953258\n",
       "Checking or savings account                                                     0.963970\n",
       "Payday loan                                                                     0.972711\n",
       "Money transfers                                                                 0.980192\n",
       "Prepaid card                                                                    0.987448\n",
       "Vehicle loan or lease                                                           0.991554\n",
       "Payday loan, title loan, or personal loan                                       0.995039\n",
       "Money transfer, virtual currency, or money service                              0.998460\n",
       "Other financial service                                                         0.999920\n",
       "Virtual currency                                                                1.000000\n",
       "Name: Product, dtype: float64"
      ]
     },
     "execution_count": 62,
     "metadata": {},
     "output_type": "execute_result"
    }
   ],
   "source": [
    "#Cumulative sum of fractions\n",
    "(consumer_complaints_narrative_notnull['Product'].value_counts()\n",
    " /len(consumer_complaints_narrative_notnull)).cumsum()"
   ]
  },
  {
   "cell_type": "markdown",
   "metadata": {},
   "source": [
    "It can be seen that around  93% of complaints narratives have been covered in the top 8 categories, upto `Consumer loan`. Hence we will create a list that accounts for top 8 products. Product names with more than 2 words will be included as 2 separate words as we have already seen that 'debt and 'collection' appeared separately in our list of 20 most predictive words. Certain generic words in product names like student, consumer etc. do not have to be included, just 'loan' should suffice."
   ]
  },
  {
   "cell_type": "code",
   "execution_count": 3,
   "metadata": {},
   "outputs": [],
   "source": [
    "#Create a list with lowercase product keywords\n",
    "filter_ls = ['debt', 'collection', 'collections','mortgage', 'credit', 'report', 'reports', 'bank', 'loan']"
   ]
  },
  {
   "cell_type": "markdown",
   "metadata": {},
   "source": [
    "As we saw above, the word that appeared most frequently after vectorization was **'xx'**. This word also comes from consumer complaints as sensitve information in narrative is coded as 'XXXX..'. Since we had already implemented trimming word when letters repeat more than twice, it's transformed to 'xx'. Since this word has no associated meaning, this **will also be eliminated by including in filter_ls**."
   ]
  },
  {
   "cell_type": "code",
   "execution_count": 4,
   "metadata": {},
   "outputs": [],
   "source": [
    "#Adding 'xx' to filter_ls\n",
    "filter_ls.append('xx')"
   ]
  },
  {
   "cell_type": "markdown",
   "metadata": {},
   "source": [
    "Another dataset is Amazon reviews. We are already aware of the categories/products that these reviews for:\n",
    "1. cameras\n",
    "2. laptops\n",
    "3. mobilephone\n",
    "4. tablets\n",
    "5. TVs\n",
    "6. video_surveillance\n",
    "\n",
    "<br>These keywords will also be added to `filter_ls`"
   ]
  },
  {
   "cell_type": "code",
   "execution_count": 5,
   "metadata": {},
   "outputs": [],
   "source": [
    "#Append amazon products to filter list\n",
    "amazon_products = ['camera','laptop', 'phone', 'tablet',  'tv', 'video surveillance']\n",
    "for product in amazon_products:\n",
    "    filter_ls.append(product)"
   ]
  },
  {
   "cell_type": "code",
   "execution_count": 6,
   "metadata": {},
   "outputs": [
    {
     "data": {
      "text/plain": [
       "['debt',\n",
       " 'collection',\n",
       " 'collections',\n",
       " 'mortgage',\n",
       " 'credit',\n",
       " 'report',\n",
       " 'reports',\n",
       " 'bank',\n",
       " 'loan',\n",
       " 'xx',\n",
       " 'camera',\n",
       " 'laptop',\n",
       " 'phone',\n",
       " 'tablet',\n",
       " 'tv',\n",
       " 'video surveillance']"
      ]
     },
     "execution_count": 6,
     "metadata": {},
     "output_type": "execute_result"
    }
   ],
   "source": [
    "#Verify\n",
    "filter_ls"
   ]
  },
  {
   "cell_type": "markdown",
   "metadata": {},
   "source": [
    "# Modify tokenizer and refit model"
   ]
  },
  {
   "cell_type": "code",
   "execution_count": 10,
   "metadata": {},
   "outputs": [],
   "source": [
    "#Add filter_ls in condtional \n",
    "def cust_tokenizer_prods_rmvd(sentence):\n",
    "   # split sentence into words\n",
    "    listofwords = sentence.split(' ')\n",
    "    listofstemmed_words = []\n",
    "    \n",
    "    # remove stopwords and any tokens that are just empty strings\n",
    "    for word in listofwords:\n",
    "        #Include filter_ls\n",
    "        if (not word in ENGLISH_STOP_WORDS) and (not word in filter_ls) and (word!=''):\n",
    "            # Stem words\n",
    "            stemmed_word = stemmer.stem(word)\n",
    "            listofstemmed_words.append(stemmed_word)\n",
    "\n",
    "    return listofstemmed_words"
   ]
  },
  {
   "cell_type": "code",
   "execution_count": 11,
   "metadata": {},
   "outputs": [
    {
     "data": {
      "text/plain": [
       "['bought',\n",
       " 'camera',\n",
       " 'would',\n",
       " 'also',\n",
       " 'like',\n",
       " 'buy',\n",
       " 'I',\n",
       " 'hope',\n",
       " 'folk',\n",
       " 'gonna',\n",
       " 'go',\n",
       " 'easi',\n",
       " 'also',\n",
       " 'killin',\n",
       " 'brah']"
      ]
     },
     "execution_count": 11,
     "metadata": {},
     "output_type": "execute_result"
    }
   ],
   "source": [
    "#Verify\n",
    "sentence = 'Bought a xx Camera on loan Would also like to buy phone on credit I hope collection folks are gonna go easy on me Also mortgage is killin me brah'\n",
    "#Did not include any punctuations as they will be taken care of before tokenizer\n",
    "cust_tokenizer_prods_rmvd(sentence)"
   ]
  },
  {
   "cell_type": "code",
   "execution_count": 19,
   "metadata": {},
   "outputs": [
    {
     "name": "stderr",
     "output_type": "stream",
     "text": [
      "C:\\Users\\Anuroop\\AppData\\Roaming\\Python\\Python37\\site-packages\\sklearn\\feature_extraction\\text.py:489: UserWarning: The parameter 'token_pattern' will not be used since 'tokenizer' is not None'\n",
      "  warnings.warn(\"The parameter 'token_pattern' will not be used\"\n"
     ]
    },
    {
     "data": {
      "text/plain": [
       "(45448, 632)"
      ]
     },
     "metadata": {},
     "output_type": "display_data"
    },
    {
     "data": {
      "text/plain": [
       "(5050, 632)"
      ]
     },
     "metadata": {},
     "output_type": "display_data"
    }
   ],
   "source": [
    "#Instantiate using cust_tokenizer_prods_rmvd and only words that appear in atleast 1% of documents\n",
    "bagofwords = CountVectorizer(tokenizer = cust_tokenizer_prods_rmvd, min_df = 0.01)\n",
    "\n",
    "#Fit vectorizer on X_train \n",
    "bagofwords.fit(X_train)\n",
    "\n",
    "\n",
    "#Transform\n",
    "X_train_transformed = bagofwords.transform(X_train)\n",
    "X_test_transformed = bagofwords.transform(X_test)\n",
    "\n",
    "#Check number of features in train and test\n",
    "display(X_train_transformed.shape)\n",
    "display(X_test_transformed.shape)"
   ]
  },
  {
   "cell_type": "markdown",
   "metadata": {},
   "source": [
    "Number of features are lesser, 632, than earlier, 642, indicating that some key words for products have been removed."
   ]
  },
  {
   "cell_type": "code",
   "execution_count": 22,
   "metadata": {},
   "outputs": [],
   "source": [
    "#Create a function for creating train and test tarnsformed df\n",
    "#and visualizing n frequent words\n",
    "def return_trnsfrmddf_visualize_words(X_train_transformed, X_test_transformed, fit,n_words):\n",
    "    X_train_transformed_df = pd.DataFrame(columns = fit.get_feature_names(),\n",
    "                                         data = X_train_transformed.toarray())\n",
    "    X_test_transformed_df = pd.DataFrame(columns = bagofwords.get_feature_names(),\n",
    "                                         data = X_test_transformed.toarray())\n",
    "    #Top 20 most frequent words\n",
    "    top_words = X_train_transformed_df.sum(axis = 0).sort_values(ascending = False)[:n_words - 1]\n",
    "\n",
    "    #Visualize vectorized data\n",
    "    plt.figure(figsize =(10,10))\n",
    "    plt.barh(top_words.index, top_words.values)\n",
    "    plt.xlabel(\"Count\")\n",
    "    plt.xticks(rotation = 90)\n",
    "    plt.ylabel(\"Tokens\")\n",
    "    plt.show()\n",
    "    #return dfs\n",
    "    return X_train_transformed_df, X_test_transformed_df\n",
    "    \n",
    "\n",
    "\n"
   ]
  },
  {
   "cell_type": "code",
   "execution_count": 23,
   "metadata": {},
   "outputs": [
    {
     "data": {
      "image/png": "[encoded data removed]",
      "text/plain": [
       "<Figure size 720x720 with 1 Axes>"
      ]
     },
     "metadata": {
      "image/png": {
       "height": 612,
       "width": 634
      },
      "needs_background": "light"
     },
     "output_type": "display_data"
    }
   ],
   "source": [
    "#Verify functions\n",
    "X_train_transformed_df, X_test_transformed_df = return_trnsfrmddf_visualize_words(\n",
    "    X_train_transformed, X_test_transformed, bagofwords,20)"
   ]
  },
  {
   "cell_type": "code",
   "execution_count": 24,
   "metadata": {},
   "outputs": [
    {
     "data": {
      "text/html": [
       "<div>\n",
       "<style scoped>\n",
       "    .dataframe tbody tr th:only-of-type {\n",
       "        vertical-align: middle;\n",
       "    }\n",
       "\n",
       "    .dataframe tbody tr th {\n",
       "        vertical-align: top;\n",
       "    }\n",
       "\n",
       "    .dataframe thead th {\n",
       "        text-align: right;\n",
       "    }\n",
       "</style>\n",
       "<table border=\"1\" class=\"dataframe\">\n",
       "  <thead>\n",
       "    <tr style=\"text-align: right;\">\n",
       "      <th></th>\n",
       "      <th>abl</th>\n",
       "      <th>absolut</th>\n",
       "      <th>accept</th>\n",
       "      <th>access</th>\n",
       "      <th>account</th>\n",
       "      <th>action</th>\n",
       "      <th>activ</th>\n",
       "      <th>actual</th>\n",
       "      <th>ad</th>\n",
       "      <th>add</th>\n",
       "      <th>...</th>\n",
       "      <th>worst</th>\n",
       "      <th>worth</th>\n",
       "      <th>would</th>\n",
       "      <th>write</th>\n",
       "      <th>wrong</th>\n",
       "      <th>x</th>\n",
       "      <th>ye</th>\n",
       "      <th>year</th>\n",
       "      <th>yet</th>\n",
       "      <th>zoom</th>\n",
       "    </tr>\n",
       "  </thead>\n",
       "  <tbody>\n",
       "    <tr>\n",
       "      <th>0</th>\n",
       "      <td>0</td>\n",
       "      <td>0</td>\n",
       "      <td>0</td>\n",
       "      <td>0</td>\n",
       "      <td>0</td>\n",
       "      <td>0</td>\n",
       "      <td>0</td>\n",
       "      <td>0</td>\n",
       "      <td>0</td>\n",
       "      <td>0</td>\n",
       "      <td>...</td>\n",
       "      <td>0</td>\n",
       "      <td>0</td>\n",
       "      <td>0</td>\n",
       "      <td>0</td>\n",
       "      <td>0</td>\n",
       "      <td>0</td>\n",
       "      <td>0</td>\n",
       "      <td>0</td>\n",
       "      <td>0</td>\n",
       "      <td>0</td>\n",
       "    </tr>\n",
       "  </tbody>\n",
       "</table>\n",
       "<p>1 rows × 632 columns</p>\n",
       "</div>"
      ],
      "text/plain": [
       "   abl  absolut  accept  access  account  action  activ  actual  ad  add  \\\n",
       "0  0    0        0       0       0        0       0      0       0   0     \n",
       "\n",
       "   ...   worst  worth  would  write  wrong  x  ye  year  yet  zoom  \n",
       "0  ...   0      0      0      0      0      0  0   0     0    0     \n",
       "\n",
       "[1 rows x 632 columns]"
      ]
     },
     "metadata": {},
     "output_type": "display_data"
    },
    {
     "data": {
      "text/plain": [
       "(45448, 632)"
      ]
     },
     "metadata": {},
     "output_type": "display_data"
    },
    {
     "data": {
      "text/html": [
       "<div>\n",
       "<style scoped>\n",
       "    .dataframe tbody tr th:only-of-type {\n",
       "        vertical-align: middle;\n",
       "    }\n",
       "\n",
       "    .dataframe tbody tr th {\n",
       "        vertical-align: top;\n",
       "    }\n",
       "\n",
       "    .dataframe thead th {\n",
       "        text-align: right;\n",
       "    }\n",
       "</style>\n",
       "<table border=\"1\" class=\"dataframe\">\n",
       "  <thead>\n",
       "    <tr style=\"text-align: right;\">\n",
       "      <th></th>\n",
       "      <th>abl</th>\n",
       "      <th>absolut</th>\n",
       "      <th>accept</th>\n",
       "      <th>access</th>\n",
       "      <th>account</th>\n",
       "      <th>action</th>\n",
       "      <th>activ</th>\n",
       "      <th>actual</th>\n",
       "      <th>ad</th>\n",
       "      <th>add</th>\n",
       "      <th>...</th>\n",
       "      <th>worst</th>\n",
       "      <th>worth</th>\n",
       "      <th>would</th>\n",
       "      <th>write</th>\n",
       "      <th>wrong</th>\n",
       "      <th>x</th>\n",
       "      <th>ye</th>\n",
       "      <th>year</th>\n",
       "      <th>yet</th>\n",
       "      <th>zoom</th>\n",
       "    </tr>\n",
       "  </thead>\n",
       "  <tbody>\n",
       "    <tr>\n",
       "      <th>0</th>\n",
       "      <td>0</td>\n",
       "      <td>0</td>\n",
       "      <td>0</td>\n",
       "      <td>0</td>\n",
       "      <td>0</td>\n",
       "      <td>0</td>\n",
       "      <td>0</td>\n",
       "      <td>0</td>\n",
       "      <td>0</td>\n",
       "      <td>0</td>\n",
       "      <td>...</td>\n",
       "      <td>0</td>\n",
       "      <td>0</td>\n",
       "      <td>0</td>\n",
       "      <td>0</td>\n",
       "      <td>0</td>\n",
       "      <td>0</td>\n",
       "      <td>0</td>\n",
       "      <td>0</td>\n",
       "      <td>0</td>\n",
       "      <td>0</td>\n",
       "    </tr>\n",
       "  </tbody>\n",
       "</table>\n",
       "<p>1 rows × 632 columns</p>\n",
       "</div>"
      ],
      "text/plain": [
       "   abl  absolut  accept  access  account  action  activ  actual  ad  add  \\\n",
       "0  0    0        0       0       0        0       0      0       0   0     \n",
       "\n",
       "   ...   worst  worth  would  write  wrong  x  ye  year  yet  zoom  \n",
       "0  ...   0      0      0      0      0      0  0   0     0    0     \n",
       "\n",
       "[1 rows x 632 columns]"
      ]
     },
     "metadata": {},
     "output_type": "display_data"
    },
    {
     "data": {
      "text/plain": [
       "(5050, 632)"
      ]
     },
     "metadata": {},
     "output_type": "display_data"
    }
   ],
   "source": [
    "#Verify dfs returned by function\n",
    "display(X_train_transformed_df.head(1))\n",
    "display(X_train_transformed_df.shape)\n",
    "display(X_test_transformed_df.head(1))\n",
    "display(X_test_transformed_df.shape)"
   ]
  },
  {
   "cell_type": "markdown",
   "metadata": {},
   "source": [
    "## Refit log reg model"
   ]
  },
  {
   "cell_type": "code",
   "execution_count": 25,
   "metadata": {},
   "outputs": [
    {
     "name": "stdout",
     "output_type": "stream",
     "text": [
      "The accuracy of unoptimized Log reg model on train set is: 0.79\n",
      "The accuracy of unoptimized Log reg model on train set is: 0.78\n"
     ]
    },
    {
     "name": "stderr",
     "output_type": "stream",
     "text": [
      "C:\\Users\\Anuroop\\AppData\\Roaming\\Python\\Python37\\site-packages\\sklearn\\linear_model\\_logistic.py:765: ConvergenceWarning: lbfgs failed to converge (status=1):\n",
      "STOP: TOTAL NO. of ITERATIONS REACHED LIMIT.\n",
      "\n",
      "Increase the number of iterations (max_iter) or scale the data as shown in:\n",
      "    https://scikit-learn.org/stable/modules/preprocessing.html\n",
      "Please also refer to the documentation for alternative solver options:\n",
      "    https://scikit-learn.org/stable/modules/linear_model.html#logistic-regression\n",
      "  extra_warning_msg=_LOGISTIC_SOLVER_CONVERGENCE_MSG)\n"
     ]
    }
   ],
   "source": [
    "# Fit a logistic regression model\n",
    "log_reg = LogisticRegression()\n",
    "log_reg.fit(X_train_transformed_df, y_train)\n",
    "#Accuracy\n",
    "print(f\"The accuracy of unoptimized Log reg model on train set is: {round(log_reg.score(X_train_transformed_df,y_train),2)}\")\n",
    "print(f\"The accuracy of unoptimized Log reg model on train set is: {round(log_reg.score(X_test_transformed_df,y_test),2)}\")"
   ]
  },
  {
   "cell_type": "markdown",
   "metadata": {},
   "source": [
    "Accuracies have not changed at all. Let's look at the words with most preictive power for greivances."
   ]
  },
  {
   "cell_type": "code",
   "execution_count": 149,
   "metadata": {},
   "outputs": [
    {
     "data": {
      "image/png": "[encoded data removed]",
      "text/plain": [
       "<Figure size 720x720 with 1 Axes>"
      ]
     },
     "metadata": {
      "image/png": {
       "height": 610,
       "width": 647
      },
      "needs_background": "light"
     },
     "output_type": "display_data"
    }
   ],
   "source": [
    "#Create a df for feature coefficients\n",
    "coef_df = pd.DataFrame(data = log_reg.coef_, columns = X_train_transformed_df.columns, \n",
    "                       index = ['coef'])\n",
    "\n",
    "#Top 25 words \n",
    "coef_df_top_25 = coef_df.sort_values(by ='coef', axis = 1, ascending = False).iloc[:,:24]\n",
    "\n",
    "#Visualize top 25 words\n",
    "plt.figure(figsize =(10,10))\n",
    "plt.barh(coef_df_top_25.loc['coef'].index, coef_df_top_25.loc['coef'].values)\n",
    "plt.xlabel(\"coefficients\")\n",
    "plt.xticks(rotation = 90)\n",
    "plt.ylabel(\"Words\")\n",
    "plt.title('25 most predictive words for greivance')\n",
    "plt.show()"
   ]
  },
  {
   "cell_type": "markdown",
   "metadata": {},
   "source": [
    "Predictive words mnake a lot more sense now. However, there are still a few words like 'payment', 'bureau' related to financial products. In the next steps we will tune model hyperparameters."
   ]
  },
  {
   "cell_type": "markdown",
   "metadata": {},
   "source": [
    "# Dump results with joblib"
   ]
  },
  {
   "cell_type": "code",
   "execution_count": 30,
   "metadata": {},
   "outputs": [
    {
     "data": {
      "text/plain": [
       "['bagofwords_unoptimized_log_reg.sav']"
      ]
     },
     "execution_count": 30,
     "metadata": {},
     "output_type": "execute_result"
    }
   ],
   "source": [
    "#Dump models into models folder\n",
    "models = (bagofwords, log_reg)\n",
    "bagofwords_unoptimized_log_reg = 'bagofwords_unoptimized_log_reg.sav'\n",
    "joblib.dump(models, bagofwords_unoptimized_log_reg)"
   ]
  },
  {
   "cell_type": "code",
   "execution_count": 31,
   "metadata": {},
   "outputs": [],
   "source": [
    "#Load saved models\n",
    "bagofwords, unoptimized_log_reg = joblib.load(bagofwords_unoptimized_log_reg)"
   ]
  },
  {
   "cell_type": "code",
   "execution_count": 33,
   "metadata": {},
   "outputs": [
    {
     "name": "stdout",
     "output_type": "stream",
     "text": [
      "The accuracy of unoptimized Log reg model on train set is: 0.79\n",
      "The accuracy of unoptimized Log reg model on train set is: 0.78\n"
     ]
    }
   ],
   "source": [
    "#Verify\n",
    "print(f\"The accuracy of unoptimized Log reg model on train set is: {round(unoptimized_log_reg.score(X_train_transformed_df,y_train),2)}\")\n",
    "print(f\"The accuracy of unoptimized Log reg model on train set is: {round(unoptimized_log_reg.score(X_test_transformed_df,y_test),2)}\")"
   ]
  },
  {
   "cell_type": "code",
   "execution_count": null,
   "metadata": {},
   "outputs": [],
   "source": []
  }
 ],
 "metadata": {
  "kernelspec": {
   "display_name": "Python 3",
   "language": "python",
   "name": "python3"
  },
  "language_info": {
   "codemirror_mode": {
    "name": "ipython",
    "version": 3
   },
   "file_extension": ".py",
   "mimetype": "text/x-python",
   "name": "python",
   "nbconvert_exporter": "python",
   "pygments_lexer": "ipython3",
   "version": "3.7.0"
  }
 },
 "nbformat": 4,
 "nbformat_minor": 2
}
