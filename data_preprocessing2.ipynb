{
 "cells": [
  {
   "cell_type": "markdown",
   "metadata": {},
   "source": [
    "# Create master df\n",
    "Total observations = 50,000\n",
    "<br>0 = 25,000, 15,000 from sentiment 140, 10,000 from amazon reviews\n",
    "<br>1 = 25,000, 10,000 from sentiment 140, 5000 from consumer complaints, 10000 from amazon reviews\n",
    "<br> All observations from sentiment 140_neutlabels"
   ]
  },
  {
   "cell_type": "code",
   "execution_count": 28,
   "metadata": {},
   "outputs": [],
   "source": [
    "import pandas as pd\n",
    "pd.set_option('display.max_colwidth', 0) #To display entire text content of a column\n",
    "import numpy as np\n",
    "import seaborn as sns\n",
    "import matplotlib.pyplot as plt\n",
    "%matplotlib inline\n",
    "%config InlineBackend.figure_format='retina'\n",
    "from sklearn.model_selection import train_test_split\n",
    "import os\n",
    "from functools import reduce\n",
    "import re\n",
    "import string\n",
    "from sklearn.feature_extraction.text import CountVectorizer\n",
    "from nltk.corpus import stopwords "
   ]
  },
  {
   "cell_type": "code",
   "execution_count": 4,
   "metadata": {},
   "outputs": [],
   "source": [
    "os.chdir('D:\\capstone_data\\processed_csv\\duplicates_rm')"
   ]
  },
  {
   "cell_type": "code",
   "execution_count": 12,
   "metadata": {},
   "outputs": [],
   "source": [
    "#Read all dfs\n",
    "sentiment_140_df = pd.read_csv('sentiment140_no_dplcts_textcol.csv')\n",
    "sentiment_140_neutlabels =  pd.read_csv('sentiment_140_neutlabels_no_dplcts_textcol.csv')\n",
    "consumer_complaints_df = pd.read_csv('consumer_complaints_no_dplcts_textcol.csv')\n",
    "amazonreviews_df = pd.read_csv('amazonreviews_with_label_no_dplcts_textcol.csv')"
   ]
  },
  {
   "cell_type": "code",
   "execution_count": 5,
   "metadata": {},
   "outputs": [
    {
     "data": {
      "text/plain": [
       "0    15000\n",
       "Name: label, dtype: int64"
      ]
     },
     "execution_count": 5,
     "metadata": {},
     "output_type": "execute_result"
    }
   ],
   "source": [
    "#Extract 15,000 0s from sentiment 140\n",
    "sentiment_140_0s_15k = sentiment_140_df[sentiment_140_df['label']==0].sample(\n",
    "    n = 15000, replace = False, random_state = 7)\n",
    "sentiment_140_0s_15k['label'].value_counts()"
   ]
  },
  {
   "cell_type": "code",
   "execution_count": 6,
   "metadata": {},
   "outputs": [
    {
     "data": {
      "text/plain": [
       "0    10000\n",
       "Name: label, dtype: int64"
      ]
     },
     "execution_count": 6,
     "metadata": {},
     "output_type": "execute_result"
    }
   ],
   "source": [
    "#Extract 10,000 0s from amazon reviews\n",
    "amazonreviews_0s_10k = amazonreviews_df[amazonreviews_df['label'] == 0].sample(\n",
    "n = 10000, replace = False, random_state = 7)\n",
    "amazonreviews_0s_10k['label'].value_counts()"
   ]
  },
  {
   "cell_type": "code",
   "execution_count": 7,
   "metadata": {},
   "outputs": [
    {
     "data": {
      "text/plain": [
       "0    321\n",
       "Name: label, dtype: int64"
      ]
     },
     "execution_count": 7,
     "metadata": {},
     "output_type": "execute_result"
    }
   ],
   "source": [
    "#Extract all 0s from sentiment_140_neutlabels\n",
    "sentiment_140_neutlabels_0s = sentiment_140_neutlabels[sentiment_140_neutlabels['label'] == 0]\n",
    "sentiment_140_neutlabels_0s['label'].value_counts()"
   ]
  },
  {
   "cell_type": "code",
   "execution_count": 8,
   "metadata": {},
   "outputs": [],
   "source": [
    "#Concat all 0s in master df \n",
    "master_df = pd.concat([sentiment_140_0s_15k, amazonreviews_0s_10k, sentiment_140_neutlabels_0s],\n",
    "                     axis = 0, ignore_index = True)"
   ]
  },
  {
   "cell_type": "code",
   "execution_count": 9,
   "metadata": {},
   "outputs": [
    {
     "data": {
      "text/html": [
       "<div>\n",
       "<style scoped>\n",
       "    .dataframe tbody tr th:only-of-type {\n",
       "        vertical-align: middle;\n",
       "    }\n",
       "\n",
       "    .dataframe tbody tr th {\n",
       "        vertical-align: top;\n",
       "    }\n",
       "\n",
       "    .dataframe thead th {\n",
       "        text-align: right;\n",
       "    }\n",
       "</style>\n",
       "<table border=\"1\" class=\"dataframe\">\n",
       "  <thead>\n",
       "    <tr style=\"text-align: right;\">\n",
       "      <th></th>\n",
       "      <th>text</th>\n",
       "      <th>label</th>\n",
       "    </tr>\n",
       "  </thead>\n",
       "  <tbody>\n",
       "    <tr>\n",
       "      <th>25319</th>\n",
       "      <td>Ask Programming: LaTeX or InDesign?: submitted by calcio1 [link] [1 comment] http://tinyurl.com/myfmf7</td>\n",
       "      <td>0</td>\n",
       "    </tr>\n",
       "    <tr>\n",
       "      <th>25320</th>\n",
       "      <td>Ahhh... back in a *real* text editing environment. I &amp;lt;3 LaTeX.</td>\n",
       "      <td>0</td>\n",
       "    </tr>\n",
       "  </tbody>\n",
       "</table>\n",
       "</div>"
      ],
      "text/plain": [
       "                                                                                                         text  \\\n",
       "25319  Ask Programming: LaTeX or InDesign?: submitted by calcio1 [link] [1 comment] http://tinyurl.com/myfmf7   \n",
       "25320  Ahhh... back in a *real* text editing environment. I &lt;3 LaTeX.                                        \n",
       "\n",
       "       label  \n",
       "25319  0      \n",
       "25320  0      "
      ]
     },
     "metadata": {},
     "output_type": "display_data"
    },
    {
     "data": {
      "text/plain": [
       "0    25321\n",
       "Name: label, dtype: int64"
      ]
     },
     "metadata": {},
     "output_type": "display_data"
    }
   ],
   "source": [
    "#Verify\n",
    "display(master_df.tail(2))\n",
    "display(master_df['label'].value_counts())"
   ]
  },
  {
   "cell_type": "code",
   "execution_count": 7,
   "metadata": {},
   "outputs": [],
   "source": [
    "#Create a function to extract data points from df\n",
    "def extract_data_pts(df, label, n_pts):\n",
    "    df = df[df['label'] == label].sample(\n",
    "    n = n_pts, replace = False, random_state = 7)\n",
    "    return df"
   ]
  },
  {
   "cell_type": "code",
   "execution_count": 11,
   "metadata": {},
   "outputs": [
    {
     "data": {
      "text/plain": [
       "1    10000\n",
       "Name: label, dtype: int64"
      ]
     },
     "metadata": {},
     "output_type": "display_data"
    },
    {
     "data": {
      "text/html": [
       "<div>\n",
       "<style scoped>\n",
       "    .dataframe tbody tr th:only-of-type {\n",
       "        vertical-align: middle;\n",
       "    }\n",
       "\n",
       "    .dataframe tbody tr th {\n",
       "        vertical-align: top;\n",
       "    }\n",
       "\n",
       "    .dataframe thead th {\n",
       "        text-align: right;\n",
       "    }\n",
       "</style>\n",
       "<table border=\"1\" class=\"dataframe\">\n",
       "  <thead>\n",
       "    <tr style=\"text-align: right;\">\n",
       "      <th></th>\n",
       "      <th>text</th>\n",
       "      <th>label</th>\n",
       "    </tr>\n",
       "  </thead>\n",
       "  <tbody>\n",
       "    <tr>\n",
       "      <th>548091</th>\n",
       "      <td>MISSING MY BOYFRIEND</td>\n",
       "      <td>1</td>\n",
       "    </tr>\n",
       "    <tr>\n",
       "      <th>163918</th>\n",
       "      <td>@SquishT77 So sorry to hear about your mum.</td>\n",
       "      <td>1</td>\n",
       "    </tr>\n",
       "  </tbody>\n",
       "</table>\n",
       "</div>"
      ],
      "text/plain": [
       "                                                text  label\n",
       "548091  MISSING MY BOYFRIEND                          1    \n",
       "163918  @SquishT77 So sorry to hear about your mum.   1    "
      ]
     },
     "metadata": {},
     "output_type": "display_data"
    }
   ],
   "source": [
    "#Extract 10,000 1s from sentiment 140\n",
    "sentiment_140_1s_10k = extract_data_pts(sentiment_140_df,1,10000)\n",
    "display(sentiment_140_1s_10k['label'].value_counts())\n",
    "display(sentiment_140_1s_10k.head(2))"
   ]
  },
  {
   "cell_type": "code",
   "execution_count": 12,
   "metadata": {},
   "outputs": [
    {
     "data": {
      "text/plain": [
       "1    5000\n",
       "Name: label, dtype: int64"
      ]
     },
     "execution_count": 12,
     "metadata": {},
     "output_type": "execute_result"
    }
   ],
   "source": [
    "#Extract 5,000 1s from consumer complaints\n",
    "consumer_complaints_1s_5k = extract_data_pts(consumer_complaints_df,1,5000)\n",
    "consumer_complaints_1s_5k['label'].value_counts()"
   ]
  },
  {
   "cell_type": "code",
   "execution_count": 13,
   "metadata": {},
   "outputs": [
    {
     "data": {
      "text/plain": [
       "1    10000\n",
       "Name: label, dtype: int64"
      ]
     },
     "execution_count": 13,
     "metadata": {},
     "output_type": "execute_result"
    }
   ],
   "source": [
    "#Extract 10,000 1s from amazon\n",
    "amazon_reviews_1s_10k = extract_data_pts(amazonreviews_df,1,10000)\n",
    "amazon_reviews_1s_10k['label'].value_counts()"
   ]
  },
  {
   "cell_type": "code",
   "execution_count": 14,
   "metadata": {},
   "outputs": [
    {
     "data": {
      "text/plain": [
       "1    177\n",
       "Name: label, dtype: int64"
      ]
     },
     "execution_count": 14,
     "metadata": {},
     "output_type": "execute_result"
    }
   ],
   "source": [
    "#Extract all 1s from amazon_reviews_1s_10k\n",
    "sentiment_140_neutlabels_1s = sentiment_140_neutlabels[sentiment_140_neutlabels['label'] == 1]\n",
    "sentiment_140_neutlabels_1s['label'].value_counts()"
   ]
  },
  {
   "cell_type": "code",
   "execution_count": 15,
   "metadata": {},
   "outputs": [],
   "source": [
    "#Concat all 4 dfs above and append to master_df\n",
    "master_df = master_df.append(\n",
    "    pd.concat([sentiment_140_1s_10k,consumer_complaints_1s_5k,\n",
    "    amazon_reviews_1s_10k, sentiment_140_neutlabels_1s],\n",
    "                          axis = 0, ignore_index = True)\n",
    "    , ignore_index = True)"
   ]
  },
  {
   "cell_type": "code",
   "execution_count": 16,
   "metadata": {},
   "outputs": [
    {
     "data": {
      "text/plain": [
       "(50498, 2)"
      ]
     },
     "metadata": {},
     "output_type": "display_data"
    },
    {
     "data": {
      "text/html": [
       "<div>\n",
       "<style scoped>\n",
       "    .dataframe tbody tr th:only-of-type {\n",
       "        vertical-align: middle;\n",
       "    }\n",
       "\n",
       "    .dataframe tbody tr th {\n",
       "        vertical-align: top;\n",
       "    }\n",
       "\n",
       "    .dataframe thead th {\n",
       "        text-align: right;\n",
       "    }\n",
       "</style>\n",
       "<table border=\"1\" class=\"dataframe\">\n",
       "  <thead>\n",
       "    <tr style=\"text-align: right;\">\n",
       "      <th></th>\n",
       "      <th>text</th>\n",
       "      <th>label</th>\n",
       "    </tr>\n",
       "  </thead>\n",
       "  <tbody>\n",
       "    <tr>\n",
       "      <th>50496</th>\n",
       "      <td>Trouble in Iran, I see. Hmm. Iran. Iran so far away. #flockofseagullsweregeopoliticallycorrect</td>\n",
       "      <td>1</td>\n",
       "    </tr>\n",
       "    <tr>\n",
       "      <th>50497</th>\n",
       "      <td>Reading the tweets coming out of Iran... The whole thing is terrifying and incredibly sad...</td>\n",
       "      <td>1</td>\n",
       "    </tr>\n",
       "  </tbody>\n",
       "</table>\n",
       "</div>"
      ],
      "text/plain": [
       "                                                                                                 text  \\\n",
       "50496  Trouble in Iran, I see. Hmm. Iran. Iran so far away. #flockofseagullsweregeopoliticallycorrect   \n",
       "50497  Reading the tweets coming out of Iran... The whole thing is terrifying and incredibly sad...     \n",
       "\n",
       "       label  \n",
       "50496  1      \n",
       "50497  1      "
      ]
     },
     "metadata": {},
     "output_type": "display_data"
    },
    {
     "data": {
      "text/plain": [
       "0    25321\n",
       "1    25177\n",
       "Name: label, dtype: int64"
      ]
     },
     "metadata": {},
     "output_type": "display_data"
    }
   ],
   "source": [
    "#Verify master_df\n",
    "display(master_df.shape)\n",
    "display(master_df.tail(2))\n",
    "display(master_df['label'].value_counts())"
   ]
  },
  {
   "cell_type": "code",
   "execution_count": 18,
   "metadata": {},
   "outputs": [],
   "source": [
    "#Write master_df to csv\n",
    "master_df.to_csv('master_df_snmnt_&cmplnts.csv', index = False)"
   ]
  },
  {
   "cell_type": "markdown",
   "metadata": {},
   "source": [
    "# Data Cleaning "
   ]
  },
  {
   "cell_type": "code",
   "execution_count": 6,
   "metadata": {},
   "outputs": [
    {
     "data": {
      "text/html": [
       "<div>\n",
       "<style scoped>\n",
       "    .dataframe tbody tr th:only-of-type {\n",
       "        vertical-align: middle;\n",
       "    }\n",
       "\n",
       "    .dataframe tbody tr th {\n",
       "        vertical-align: top;\n",
       "    }\n",
       "\n",
       "    .dataframe thead th {\n",
       "        text-align: right;\n",
       "    }\n",
       "</style>\n",
       "<table border=\"1\" class=\"dataframe\">\n",
       "  <thead>\n",
       "    <tr style=\"text-align: right;\">\n",
       "      <th></th>\n",
       "      <th>text</th>\n",
       "      <th>label</th>\n",
       "    </tr>\n",
       "  </thead>\n",
       "  <tbody>\n",
       "    <tr>\n",
       "      <th>0</th>\n",
       "      <td>@vallywally LOL.. Damm U make commision when SHE wins.. NICEE..  BTW.. What do u play when ure there?</td>\n",
       "      <td>0</td>\n",
       "    </tr>\n",
       "    <tr>\n",
       "      <th>1</th>\n",
       "      <td>@k80bug Ohhh I used to make those when I was operations there</td>\n",
       "      <td>0</td>\n",
       "    </tr>\n",
       "    <tr>\n",
       "      <th>2</th>\n",
       "      <td>That is...if I can make it thru the west and southside of Montgomery without being stopped by the punkass cops.</td>\n",
       "      <td>0</td>\n",
       "    </tr>\n",
       "    <tr>\n",
       "      <th>3</th>\n",
       "      <td>Good stuff med @ericries Strax ï¿½ver en timme lï¿½ng, check it! http://bit.ly/15Vumv  Tack @emileifrem !!</td>\n",
       "      <td>0</td>\n",
       "    </tr>\n",
       "    <tr>\n",
       "      <th>4</th>\n",
       "      <td>Tomorrow I begin a two day shoot for an online retailer. I'll be posing in various garments... I love it!</td>\n",
       "      <td>0</td>\n",
       "    </tr>\n",
       "  </tbody>\n",
       "</table>\n",
       "</div>"
      ],
      "text/plain": [
       "                                                                                                                text  \\\n",
       "0  @vallywally LOL.. Damm U make commision when SHE wins.. NICEE..  BTW.. What do u play when ure there?               \n",
       "1  @k80bug Ohhh I used to make those when I was operations there                                                       \n",
       "2  That is...if I can make it thru the west and southside of Montgomery without being stopped by the punkass cops.     \n",
       "3  Good stuff med @ericries Strax ï¿½ver en timme lï¿½ng, check it! http://bit.ly/15Vumv  Tack @emileifrem !!          \n",
       "4  Tomorrow I begin a two day shoot for an online retailer. I'll be posing in various garments... I love it!           \n",
       "\n",
       "   label  \n",
       "0  0      \n",
       "1  0      \n",
       "2  0      \n",
       "3  0      \n",
       "4  0      "
      ]
     },
     "execution_count": 6,
     "metadata": {},
     "output_type": "execute_result"
    }
   ],
   "source": [
    "#Read \n",
    "master_df = pd.read_csv('master_df_snmnt_&cmplnts.csv')\n",
    "master_df.head()"
   ]
  },
  {
   "cell_type": "markdown",
   "metadata": {},
   "source": [
    "## Data cleaning steps\n",
    "1. Remove user handles - e.g. @broskiii OH SNAP YOU WORK......\n",
    "2. Remove hashtags  - e.g. #at&amp;t is complete fail\n",
    "3. Remove urls\n",
    "4. Replace punctuations with whitespace - For intial model we will focus on key words to determine negative tweets.\n",
    "5. Remove numbers\n",
    "6. Trim repeated letters in a word - People tend to use mutiple letters to emphasize especially on twitter e.g. I am soooooooooo hungryyyyyyyyyyyyyyyyyy. Any letter repeating more than twice will be trimmed. The e.g. text will be modified to I am soo hungryy.\n",
    "<br>\n",
    "<br>It must be noted that it is very important to complete steps 1 through 3 before replacing punctuations with whitespace because they all include some form of punctuation like @,#,// etc. that will be removed and alphanumeric values are left unchanged. e.g. \"http://twitpic.com/5ej4y - My favorite neurotic sister\" will be transformed to \"http   twitpic com 5ej4y   My favorite neurotic sister\"\n"
   ]
  },
  {
   "cell_type": "code",
   "execution_count": 7,
   "metadata": {},
   "outputs": [
    {
     "data": {
      "text/html": [
       "<div>\n",
       "<style scoped>\n",
       "    .dataframe tbody tr th:only-of-type {\n",
       "        vertical-align: middle;\n",
       "    }\n",
       "\n",
       "    .dataframe tbody tr th {\n",
       "        vertical-align: top;\n",
       "    }\n",
       "\n",
       "    .dataframe thead th {\n",
       "        text-align: right;\n",
       "    }\n",
       "</style>\n",
       "<table border=\"1\" class=\"dataframe\">\n",
       "  <thead>\n",
       "    <tr style=\"text-align: right;\">\n",
       "      <th></th>\n",
       "      <th>text</th>\n",
       "      <th>label</th>\n",
       "    </tr>\n",
       "  </thead>\n",
       "  <tbody>\n",
       "    <tr>\n",
       "      <th>0</th>\n",
       "      <td>@vallywally LOL.. Damm U make commision when SHE wins.. NICEE..  BTW.. What do u play when ure there?</td>\n",
       "      <td>0</td>\n",
       "    </tr>\n",
       "    <tr>\n",
       "      <th>1</th>\n",
       "      <td>@k80bug Ohhh I used to make those when I was operations there</td>\n",
       "      <td>0</td>\n",
       "    </tr>\n",
       "    <tr>\n",
       "      <th>2</th>\n",
       "      <td>That is...if I can make it thru the west and southside of Montgomery without being stopped by the punkass cops.</td>\n",
       "      <td>0</td>\n",
       "    </tr>\n",
       "    <tr>\n",
       "      <th>3</th>\n",
       "      <td>Good stuff med @ericries Strax ï¿½ver en timme lï¿½ng, check it! http://bit.ly/15Vumv  Tack @emileifrem !!</td>\n",
       "      <td>0</td>\n",
       "    </tr>\n",
       "    <tr>\n",
       "      <th>4</th>\n",
       "      <td>Tomorrow I begin a two day shoot for an online retailer. I'll be posing in various garments... I love it!</td>\n",
       "      <td>0</td>\n",
       "    </tr>\n",
       "    <tr>\n",
       "      <th>5</th>\n",
       "      <td>@hillkath Good morning.</td>\n",
       "      <td>0</td>\n",
       "    </tr>\n",
       "    <tr>\n",
       "      <th>6</th>\n",
       "      <td>In Melbourne Australia, Thursday 7th May there is a Body Balance info night, tasting and free bottle! Direct message me email for details</td>\n",
       "      <td>0</td>\n",
       "    </tr>\n",
       "    <tr>\n",
       "      <th>7</th>\n",
       "      <td>@therealswizzz http://twitpic.com/5eyah - XOXO</td>\n",
       "      <td>0</td>\n",
       "    </tr>\n",
       "    <tr>\n",
       "      <th>8</th>\n",
       "      <td>@SashaKane have a happy day</td>\n",
       "      <td>0</td>\n",
       "    </tr>\n",
       "    <tr>\n",
       "      <th>9</th>\n",
       "      <td>@VivaLaCaro That was coolio!  &amp;lt;3 I left reviews and fatty fuel.</td>\n",
       "      <td>0</td>\n",
       "    </tr>\n",
       "    <tr>\n",
       "      <th>10</th>\n",
       "      <td>@ohmahcarol Can you please lock it in??!</td>\n",
       "      <td>0</td>\n",
       "    </tr>\n",
       "    <tr>\n",
       "      <th>11</th>\n",
       "      <td>@EyekoBeauty Got my stuff this morning and i LOVE it gunna use everything for my sisters bridal makeup today  need more !</td>\n",
       "      <td>0</td>\n",
       "    </tr>\n",
       "    <tr>\n",
       "      <th>12</th>\n",
       "      <td>@heregoessteph every fucking day baby. ;D all miley/jonas/disneywank reminds me of you. hey monday deffo doesn't though.</td>\n",
       "      <td>0</td>\n",
       "    </tr>\n",
       "    <tr>\n",
       "      <th>13</th>\n",
       "      <td>coffee bean nights. gotta love 'em! rackam's zombie show was rad... got me a hello kitty zombie painting!</td>\n",
       "      <td>0</td>\n",
       "    </tr>\n",
       "    <tr>\n",
       "      <th>14</th>\n",
       "      <td>@lsbsuperfreak Get 100 followers a day using www.tweeteradder.com Once you add everyone you are on the train or pay vip</td>\n",
       "      <td>0</td>\n",
       "    </tr>\n",
       "    <tr>\n",
       "      <th>15</th>\n",
       "      <td>it is so cute watching Matt play with the Wii as I do some work</td>\n",
       "      <td>0</td>\n",
       "    </tr>\n",
       "    <tr>\n",
       "      <th>16</th>\n",
       "      <td>found my phone</td>\n",
       "      <td>0</td>\n",
       "    </tr>\n",
       "    <tr>\n",
       "      <th>17</th>\n",
       "      <td>http://twitpic.com/5ej4y - My favorite neurotic sister</td>\n",
       "      <td>0</td>\n",
       "    </tr>\n",
       "    <tr>\n",
       "      <th>18</th>\n",
       "      <td>@EmmaJaney ohh, yeah well. im sick today so i win</td>\n",
       "      <td>0</td>\n",
       "    </tr>\n",
       "    <tr>\n",
       "      <th>19</th>\n",
       "      <td>@mneylon IÂ´ll pack my poncho  On a separate note, can you tag that pic &amp;quot;icann&amp;quot; so i can check if the flickr feed on icann.mobi works?</td>\n",
       "      <td>0</td>\n",
       "    </tr>\n",
       "    <tr>\n",
       "      <th>20</th>\n",
       "      <td>@Trippypeas HAPPY B-DAY!!!! Working on your thing right now</td>\n",
       "      <td>0</td>\n",
       "    </tr>\n",
       "    <tr>\n",
       "      <th>21</th>\n",
       "      <td>@LauraDunne MAKE ME SOME</td>\n",
       "      <td>0</td>\n",
       "    </tr>\n",
       "    <tr>\n",
       "      <th>22</th>\n",
       "      <td>@aplusk Why do you have traffic lights as your backround ?</td>\n",
       "      <td>0</td>\n",
       "    </tr>\n",
       "    <tr>\n",
       "      <th>23</th>\n",
       "      <td>@mileycyrus hi miley  i loved you're movie it was amazing !</td>\n",
       "      <td>0</td>\n",
       "    </tr>\n",
       "    <tr>\n",
       "      <th>24</th>\n",
       "      <td>still keep crocheting n thinking if i should watch #fringe as well  #crochet</td>\n",
       "      <td>0</td>\n",
       "    </tr>\n",
       "  </tbody>\n",
       "</table>\n",
       "</div>"
      ],
      "text/plain": [
       "                                                                                                                                                 text  \\\n",
       "0   @vallywally LOL.. Damm U make commision when SHE wins.. NICEE..  BTW.. What do u play when ure there?                                               \n",
       "1   @k80bug Ohhh I used to make those when I was operations there                                                                                       \n",
       "2   That is...if I can make it thru the west and southside of Montgomery without being stopped by the punkass cops.                                     \n",
       "3   Good stuff med @ericries Strax ï¿½ver en timme lï¿½ng, check it! http://bit.ly/15Vumv  Tack @emileifrem !!                                          \n",
       "4   Tomorrow I begin a two day shoot for an online retailer. I'll be posing in various garments... I love it!                                           \n",
       "5   @hillkath Good morning.                                                                                                                             \n",
       "6   In Melbourne Australia, Thursday 7th May there is a Body Balance info night, tasting and free bottle! Direct message me email for details           \n",
       "7   @therealswizzz http://twitpic.com/5eyah - XOXO                                                                                                      \n",
       "8   @SashaKane have a happy day                                                                                                                         \n",
       "9   @VivaLaCaro That was coolio!  &lt;3 I left reviews and fatty fuel.                                                                                  \n",
       "10  @ohmahcarol Can you please lock it in??!                                                                                                            \n",
       "11  @EyekoBeauty Got my stuff this morning and i LOVE it gunna use everything for my sisters bridal makeup today  need more !                           \n",
       "12  @heregoessteph every fucking day baby. ;D all miley/jonas/disneywank reminds me of you. hey monday deffo doesn't though.                            \n",
       "13  coffee bean nights. gotta love 'em! rackam's zombie show was rad... got me a hello kitty zombie painting!                                           \n",
       "14  @lsbsuperfreak Get 100 followers a day using www.tweeteradder.com Once you add everyone you are on the train or pay vip                             \n",
       "15  it is so cute watching Matt play with the Wii as I do some work                                                                                     \n",
       "16  found my phone                                                                                                                                      \n",
       "17  http://twitpic.com/5ej4y - My favorite neurotic sister                                                                                              \n",
       "18  @EmmaJaney ohh, yeah well. im sick today so i win                                                                                                   \n",
       "19  @mneylon IÂ´ll pack my poncho  On a separate note, can you tag that pic &quot;icann&quot; so i can check if the flickr feed on icann.mobi works?    \n",
       "20  @Trippypeas HAPPY B-DAY!!!! Working on your thing right now                                                                                         \n",
       "21  @LauraDunne MAKE ME SOME                                                                                                                            \n",
       "22  @aplusk Why do you have traffic lights as your backround ?                                                                                          \n",
       "23  @mileycyrus hi miley  i loved you're movie it was amazing !                                                                                         \n",
       "24  still keep crocheting n thinking if i should watch #fringe as well  #crochet                                                                        \n",
       "\n",
       "    label  \n",
       "0   0      \n",
       "1   0      \n",
       "2   0      \n",
       "3   0      \n",
       "4   0      \n",
       "5   0      \n",
       "6   0      \n",
       "7   0      \n",
       "8   0      \n",
       "9   0      \n",
       "10  0      \n",
       "11  0      \n",
       "12  0      \n",
       "13  0      \n",
       "14  0      \n",
       "15  0      \n",
       "16  0      \n",
       "17  0      \n",
       "18  0      \n",
       "19  0      \n",
       "20  0      \n",
       "21  0      \n",
       "22  0      \n",
       "23  0      \n",
       "24  0      "
      ]
     },
     "execution_count": 7,
     "metadata": {},
     "output_type": "execute_result"
    }
   ],
   "source": [
    "#Smaller sample from master to test our functions\n",
    "df = master_df.head(25)\n",
    "df"
   ]
  },
  {
   "cell_type": "code",
   "execution_count": 8,
   "metadata": {},
   "outputs": [
    {
     "name": "stderr",
     "output_type": "stream",
     "text": [
      "C:\\Users\\Anuroop\\Anaconda3\\lib\\site-packages\\ipykernel_launcher.py:2: SettingWithCopyWarning: \n",
      "A value is trying to be set on a copy of a slice from a DataFrame.\n",
      "Try using .loc[row_indexer,col_indexer] = value instead\n",
      "\n",
      "See the caveats in the documentation: http://pandas.pydata.org/pandas-docs/stable/indexing.html#indexing-view-versus-copy\n",
      "  \n"
     ]
    },
    {
     "data": {
      "text/html": [
       "<div>\n",
       "<style scoped>\n",
       "    .dataframe tbody tr th:only-of-type {\n",
       "        vertical-align: middle;\n",
       "    }\n",
       "\n",
       "    .dataframe tbody tr th {\n",
       "        vertical-align: top;\n",
       "    }\n",
       "\n",
       "    .dataframe thead th {\n",
       "        text-align: right;\n",
       "    }\n",
       "</style>\n",
       "<table border=\"1\" class=\"dataframe\">\n",
       "  <thead>\n",
       "    <tr style=\"text-align: right;\">\n",
       "      <th></th>\n",
       "      <th>text</th>\n",
       "      <th>label</th>\n",
       "      <th>clean_text</th>\n",
       "    </tr>\n",
       "  </thead>\n",
       "  <tbody>\n",
       "    <tr>\n",
       "      <th>0</th>\n",
       "      <td>@vallywally LOL.. Damm U make commision when SHE wins.. NICEE..  BTW.. What do u play when ure there?</td>\n",
       "      <td>0</td>\n",
       "      <td>LOL.. Damm U make commision when SHE wins.. NICEE..  BTW.. What do u play when ure there?</td>\n",
       "    </tr>\n",
       "    <tr>\n",
       "      <th>1</th>\n",
       "      <td>@k80bug Ohhh I used to make those when I was operations there</td>\n",
       "      <td>0</td>\n",
       "      <td>Ohhh I used to make those when I was operations there</td>\n",
       "    </tr>\n",
       "  </tbody>\n",
       "</table>\n",
       "</div>"
      ],
      "text/plain": [
       "                                                                                                    text  \\\n",
       "0  @vallywally LOL.. Damm U make commision when SHE wins.. NICEE..  BTW.. What do u play when ure there?   \n",
       "1  @k80bug Ohhh I used to make those when I was operations there                                           \n",
       "\n",
       "   label  \\\n",
       "0  0       \n",
       "1  0       \n",
       "\n",
       "                                                                                   clean_text  \n",
       "0   LOL.. Damm U make commision when SHE wins.. NICEE..  BTW.. What do u play when ure there?  \n",
       "1   Ohhh I used to make those when I was operations there                                      "
      ]
     },
     "execution_count": 8,
     "metadata": {},
     "output_type": "execute_result"
    }
   ],
   "source": [
    "# Step 1. Remove user handles\n",
    "df['clean_text'] = df['text'].apply(lambda x: re.sub(\"@[\\w]*\",\"\", x))\n",
    "#@ = literal match, @[] = @ followed by, \\w = Aplhanumeric , * = 0 or more occurences\n",
    "#Verify\n",
    "df.head(2)"
   ]
  },
  {
   "cell_type": "code",
   "execution_count": 9,
   "metadata": {},
   "outputs": [
    {
     "name": "stderr",
     "output_type": "stream",
     "text": [
      "C:\\Users\\Anuroop\\Anaconda3\\lib\\site-packages\\ipykernel_launcher.py:2: SettingWithCopyWarning: \n",
      "A value is trying to be set on a copy of a slice from a DataFrame.\n",
      "Try using .loc[row_indexer,col_indexer] = value instead\n",
      "\n",
      "See the caveats in the documentation: http://pandas.pydata.org/pandas-docs/stable/indexing.html#indexing-view-versus-copy\n",
      "  \n"
     ]
    },
    {
     "data": {
      "text/html": [
       "<div>\n",
       "<style scoped>\n",
       "    .dataframe tbody tr th:only-of-type {\n",
       "        vertical-align: middle;\n",
       "    }\n",
       "\n",
       "    .dataframe tbody tr th {\n",
       "        vertical-align: top;\n",
       "    }\n",
       "\n",
       "    .dataframe thead th {\n",
       "        text-align: right;\n",
       "    }\n",
       "</style>\n",
       "<table border=\"1\" class=\"dataframe\">\n",
       "  <thead>\n",
       "    <tr style=\"text-align: right;\">\n",
       "      <th></th>\n",
       "      <th>text</th>\n",
       "      <th>label</th>\n",
       "      <th>clean_text</th>\n",
       "    </tr>\n",
       "  </thead>\n",
       "  <tbody>\n",
       "    <tr>\n",
       "      <th>23</th>\n",
       "      <td>@mileycyrus hi miley  i loved you're movie it was amazing !</td>\n",
       "      <td>0</td>\n",
       "      <td>hi miley  i loved you're movie it was amazing !</td>\n",
       "    </tr>\n",
       "    <tr>\n",
       "      <th>24</th>\n",
       "      <td>still keep crocheting n thinking if i should watch #fringe as well  #crochet</td>\n",
       "      <td>0</td>\n",
       "      <td>still keep crocheting n thinking if i should watch  as well</td>\n",
       "    </tr>\n",
       "  </tbody>\n",
       "</table>\n",
       "</div>"
      ],
      "text/plain": [
       "                                                                            text  \\\n",
       "23  @mileycyrus hi miley  i loved you're movie it was amazing !                    \n",
       "24  still keep crocheting n thinking if i should watch #fringe as well  #crochet   \n",
       "\n",
       "    label                                                     clean_text  \n",
       "23  0       hi miley  i loved you're movie it was amazing !               \n",
       "24  0      still keep crocheting n thinking if i should watch  as well    "
      ]
     },
     "execution_count": 9,
     "metadata": {},
     "output_type": "execute_result"
    }
   ],
   "source": [
    "# Step 2. Remove hashtags\n",
    "df['clean_text'] = df['clean_text'].apply(lambda x: re.sub(\"#[\\w]*\",\"\", x))\n",
    "#Verify\n",
    "df.tail(2)"
   ]
  },
  {
   "cell_type": "code",
   "execution_count": 10,
   "metadata": {},
   "outputs": [
    {
     "name": "stderr",
     "output_type": "stream",
     "text": [
      "C:\\Users\\Anuroop\\Anaconda3\\lib\\site-packages\\ipykernel_launcher.py:2: SettingWithCopyWarning: \n",
      "A value is trying to be set on a copy of a slice from a DataFrame.\n",
      "Try using .loc[row_indexer,col_indexer] = value instead\n",
      "\n",
      "See the caveats in the documentation: http://pandas.pydata.org/pandas-docs/stable/indexing.html#indexing-view-versus-copy\n",
      "  \n"
     ]
    },
    {
     "data": {
      "text/html": [
       "<div>\n",
       "<style scoped>\n",
       "    .dataframe tbody tr th:only-of-type {\n",
       "        vertical-align: middle;\n",
       "    }\n",
       "\n",
       "    .dataframe tbody tr th {\n",
       "        vertical-align: top;\n",
       "    }\n",
       "\n",
       "    .dataframe thead th {\n",
       "        text-align: right;\n",
       "    }\n",
       "</style>\n",
       "<table border=\"1\" class=\"dataframe\">\n",
       "  <thead>\n",
       "    <tr style=\"text-align: right;\">\n",
       "      <th></th>\n",
       "      <th>text</th>\n",
       "      <th>label</th>\n",
       "      <th>clean_text</th>\n",
       "    </tr>\n",
       "  </thead>\n",
       "  <tbody>\n",
       "    <tr>\n",
       "      <th>0</th>\n",
       "      <td>@vallywally LOL.. Damm U make commision when SHE wins.. NICEE..  BTW.. What do u play when ure there?</td>\n",
       "      <td>0</td>\n",
       "      <td>LOL.. Damm U make commision when SHE wins.. NICEE..  BTW.. What do u play when ure there?</td>\n",
       "    </tr>\n",
       "    <tr>\n",
       "      <th>1</th>\n",
       "      <td>@k80bug Ohhh I used to make those when I was operations there</td>\n",
       "      <td>0</td>\n",
       "      <td>Ohhh I used to make those when I was operations there</td>\n",
       "    </tr>\n",
       "    <tr>\n",
       "      <th>2</th>\n",
       "      <td>That is...if I can make it thru the west and southside of Montgomery without being stopped by the punkass cops.</td>\n",
       "      <td>0</td>\n",
       "      <td>That is...if I can make it thru the west and southside of Montgomery without being stopped by the punkass cops.</td>\n",
       "    </tr>\n",
       "    <tr>\n",
       "      <th>3</th>\n",
       "      <td>Good stuff med @ericries Strax ï¿½ver en timme lï¿½ng, check it! http://bit.ly/15Vumv  Tack @emileifrem !!</td>\n",
       "      <td>0</td>\n",
       "      <td>Good stuff med  Strax ï¿½ver en timme lï¿½ng, check it!   Tack  !!</td>\n",
       "    </tr>\n",
       "    <tr>\n",
       "      <th>4</th>\n",
       "      <td>Tomorrow I begin a two day shoot for an online retailer. I'll be posing in various garments... I love it!</td>\n",
       "      <td>0</td>\n",
       "      <td>Tomorrow I begin a two day shoot for an online retailer. I'll be posing in various garments... I love it!</td>\n",
       "    </tr>\n",
       "    <tr>\n",
       "      <th>5</th>\n",
       "      <td>@hillkath Good morning.</td>\n",
       "      <td>0</td>\n",
       "      <td>Good morning.</td>\n",
       "    </tr>\n",
       "    <tr>\n",
       "      <th>6</th>\n",
       "      <td>In Melbourne Australia, Thursday 7th May there is a Body Balance info night, tasting and free bottle! Direct message me email for details</td>\n",
       "      <td>0</td>\n",
       "      <td>In Melbourne Australia, Thursday 7th May there is a Body Balance info night, tasting and free bottle! Direct message me email for details</td>\n",
       "    </tr>\n",
       "    <tr>\n",
       "      <th>7</th>\n",
       "      <td>@therealswizzz http://twitpic.com/5eyah - XOXO</td>\n",
       "      <td>0</td>\n",
       "      <td>- XOXO</td>\n",
       "    </tr>\n",
       "    <tr>\n",
       "      <th>8</th>\n",
       "      <td>@SashaKane have a happy day</td>\n",
       "      <td>0</td>\n",
       "      <td>have a happy day</td>\n",
       "    </tr>\n",
       "    <tr>\n",
       "      <th>9</th>\n",
       "      <td>@VivaLaCaro That was coolio!  &amp;lt;3 I left reviews and fatty fuel.</td>\n",
       "      <td>0</td>\n",
       "      <td>That was coolio!  &amp;lt;3 I left reviews and fatty fuel.</td>\n",
       "    </tr>\n",
       "  </tbody>\n",
       "</table>\n",
       "</div>"
      ],
      "text/plain": [
       "                                                                                                                                         text  \\\n",
       "0  @vallywally LOL.. Damm U make commision when SHE wins.. NICEE..  BTW.. What do u play when ure there?                                        \n",
       "1  @k80bug Ohhh I used to make those when I was operations there                                                                                \n",
       "2  That is...if I can make it thru the west and southside of Montgomery without being stopped by the punkass cops.                              \n",
       "3  Good stuff med @ericries Strax ï¿½ver en timme lï¿½ng, check it! http://bit.ly/15Vumv  Tack @emileifrem !!                                   \n",
       "4  Tomorrow I begin a two day shoot for an online retailer. I'll be posing in various garments... I love it!                                    \n",
       "5  @hillkath Good morning.                                                                                                                      \n",
       "6  In Melbourne Australia, Thursday 7th May there is a Body Balance info night, tasting and free bottle! Direct message me email for details    \n",
       "7  @therealswizzz http://twitpic.com/5eyah - XOXO                                                                                               \n",
       "8  @SashaKane have a happy day                                                                                                                  \n",
       "9  @VivaLaCaro That was coolio!  &lt;3 I left reviews and fatty fuel.                                                                           \n",
       "\n",
       "   label  \\\n",
       "0  0       \n",
       "1  0       \n",
       "2  0       \n",
       "3  0       \n",
       "4  0       \n",
       "5  0       \n",
       "6  0       \n",
       "7  0       \n",
       "8  0       \n",
       "9  0       \n",
       "\n",
       "                                                                                                                                   clean_text  \n",
       "0   LOL.. Damm U make commision when SHE wins.. NICEE..  BTW.. What do u play when ure there?                                                  \n",
       "1   Ohhh I used to make those when I was operations there                                                                                      \n",
       "2  That is...if I can make it thru the west and southside of Montgomery without being stopped by the punkass cops.                             \n",
       "3  Good stuff med  Strax ï¿½ver en timme lï¿½ng, check it!   Tack  !!                                                                          \n",
       "4  Tomorrow I begin a two day shoot for an online retailer. I'll be posing in various garments... I love it!                                   \n",
       "5   Good morning.                                                                                                                              \n",
       "6  In Melbourne Australia, Thursday 7th May there is a Body Balance info night, tasting and free bottle! Direct message me email for details   \n",
       "7    - XOXO                                                                                                                                    \n",
       "8   have a happy day                                                                                                                           \n",
       "9   That was coolio!  &lt;3 I left reviews and fatty fuel.                                                                                     "
      ]
     },
     "execution_count": 10,
     "metadata": {},
     "output_type": "execute_result"
    }
   ],
   "source": [
    "#Step 3. Remove urls\n",
    "df['clean_text'] = df['clean_text'].apply(lambda x: re.sub(\"http\\S+\", \"\", x))\n",
    "# http = literal match, \\S -all non white spaces, + = one or more occurences\n",
    "#Verify\n",
    "df.head(10)"
   ]
  },
  {
   "cell_type": "code",
   "execution_count": 11,
   "metadata": {},
   "outputs": [
    {
     "data": {
      "text/plain": [
       "'!\"#$%&\\'()*+,-./:;<=>?@[\\\\]^_`{|}~'"
      ]
     },
     "execution_count": 11,
     "metadata": {},
     "output_type": "execute_result"
    }
   ],
   "source": [
    "#Step 4. Replace punctuations except for ! with whitespace\n",
    "#Get punctuations\n",
    "string.punctuation"
   ]
  },
  {
   "cell_type": "code",
   "execution_count": 12,
   "metadata": {},
   "outputs": [
    {
     "name": "stderr",
     "output_type": "stream",
     "text": [
      "C:\\Users\\Anuroop\\Anaconda3\\lib\\site-packages\\ipykernel_launcher.py:2: SettingWithCopyWarning: \n",
      "A value is trying to be set on a copy of a slice from a DataFrame.\n",
      "Try using .loc[row_indexer,col_indexer] = value instead\n",
      "\n",
      "See the caveats in the documentation: http://pandas.pydata.org/pandas-docs/stable/indexing.html#indexing-view-versus-copy\n",
      "  \n"
     ]
    },
    {
     "data": {
      "text/html": [
       "<div>\n",
       "<style scoped>\n",
       "    .dataframe tbody tr th:only-of-type {\n",
       "        vertical-align: middle;\n",
       "    }\n",
       "\n",
       "    .dataframe tbody tr th {\n",
       "        vertical-align: top;\n",
       "    }\n",
       "\n",
       "    .dataframe thead th {\n",
       "        text-align: right;\n",
       "    }\n",
       "</style>\n",
       "<table border=\"1\" class=\"dataframe\">\n",
       "  <thead>\n",
       "    <tr style=\"text-align: right;\">\n",
       "      <th></th>\n",
       "      <th>text</th>\n",
       "      <th>label</th>\n",
       "      <th>clean_text</th>\n",
       "    </tr>\n",
       "  </thead>\n",
       "  <tbody>\n",
       "    <tr>\n",
       "      <th>0</th>\n",
       "      <td>@vallywally LOL.. Damm U make commision when SHE wins.. NICEE..  BTW.. What do u play when ure there?</td>\n",
       "      <td>0</td>\n",
       "      <td>LOL   Damm U make commision when SHE wins   NICEE    BTW   What do u play when ure there</td>\n",
       "    </tr>\n",
       "    <tr>\n",
       "      <th>1</th>\n",
       "      <td>@k80bug Ohhh I used to make those when I was operations there</td>\n",
       "      <td>0</td>\n",
       "      <td>Ohhh I used to make those when I was operations there</td>\n",
       "    </tr>\n",
       "    <tr>\n",
       "      <th>2</th>\n",
       "      <td>That is...if I can make it thru the west and southside of Montgomery without being stopped by the punkass cops.</td>\n",
       "      <td>0</td>\n",
       "      <td>That is   if I can make it thru the west and southside of Montgomery without being stopped by the punkass cops</td>\n",
       "    </tr>\n",
       "    <tr>\n",
       "      <th>3</th>\n",
       "      <td>Good stuff med @ericries Strax ï¿½ver en timme lï¿½ng, check it! http://bit.ly/15Vumv  Tack @emileifrem !!</td>\n",
       "      <td>0</td>\n",
       "      <td>Good stuff med  Strax ï¿½ver en timme lï¿½ng  check it    Tack</td>\n",
       "    </tr>\n",
       "    <tr>\n",
       "      <th>4</th>\n",
       "      <td>Tomorrow I begin a two day shoot for an online retailer. I'll be posing in various garments... I love it!</td>\n",
       "      <td>0</td>\n",
       "      <td>Tomorrow I begin a two day shoot for an online retailer  I ll be posing in various garments    I love it</td>\n",
       "    </tr>\n",
       "    <tr>\n",
       "      <th>5</th>\n",
       "      <td>@hillkath Good morning.</td>\n",
       "      <td>0</td>\n",
       "      <td>Good morning</td>\n",
       "    </tr>\n",
       "    <tr>\n",
       "      <th>6</th>\n",
       "      <td>In Melbourne Australia, Thursday 7th May there is a Body Balance info night, tasting and free bottle! Direct message me email for details</td>\n",
       "      <td>0</td>\n",
       "      <td>In Melbourne Australia  Thursday 7th May there is a Body Balance info night  tasting and free bottle  Direct message me email for details</td>\n",
       "    </tr>\n",
       "    <tr>\n",
       "      <th>7</th>\n",
       "      <td>@therealswizzz http://twitpic.com/5eyah - XOXO</td>\n",
       "      <td>0</td>\n",
       "      <td>XOXO</td>\n",
       "    </tr>\n",
       "    <tr>\n",
       "      <th>8</th>\n",
       "      <td>@SashaKane have a happy day</td>\n",
       "      <td>0</td>\n",
       "      <td>have a happy day</td>\n",
       "    </tr>\n",
       "    <tr>\n",
       "      <th>9</th>\n",
       "      <td>@VivaLaCaro That was coolio!  &amp;lt;3 I left reviews and fatty fuel.</td>\n",
       "      <td>0</td>\n",
       "      <td>That was coolio    lt 3 I left reviews and fatty fuel</td>\n",
       "    </tr>\n",
       "  </tbody>\n",
       "</table>\n",
       "</div>"
      ],
      "text/plain": [
       "                                                                                                                                         text  \\\n",
       "0  @vallywally LOL.. Damm U make commision when SHE wins.. NICEE..  BTW.. What do u play when ure there?                                        \n",
       "1  @k80bug Ohhh I used to make those when I was operations there                                                                                \n",
       "2  That is...if I can make it thru the west and southside of Montgomery without being stopped by the punkass cops.                              \n",
       "3  Good stuff med @ericries Strax ï¿½ver en timme lï¿½ng, check it! http://bit.ly/15Vumv  Tack @emileifrem !!                                   \n",
       "4  Tomorrow I begin a two day shoot for an online retailer. I'll be posing in various garments... I love it!                                    \n",
       "5  @hillkath Good morning.                                                                                                                      \n",
       "6  In Melbourne Australia, Thursday 7th May there is a Body Balance info night, tasting and free bottle! Direct message me email for details    \n",
       "7  @therealswizzz http://twitpic.com/5eyah - XOXO                                                                                               \n",
       "8  @SashaKane have a happy day                                                                                                                  \n",
       "9  @VivaLaCaro That was coolio!  &lt;3 I left reviews and fatty fuel.                                                                           \n",
       "\n",
       "   label  \\\n",
       "0  0       \n",
       "1  0       \n",
       "2  0       \n",
       "3  0       \n",
       "4  0       \n",
       "5  0       \n",
       "6  0       \n",
       "7  0       \n",
       "8  0       \n",
       "9  0       \n",
       "\n",
       "                                                                                                                                   clean_text  \n",
       "0   LOL   Damm U make commision when SHE wins   NICEE    BTW   What do u play when ure there                                                   \n",
       "1   Ohhh I used to make those when I was operations there                                                                                      \n",
       "2  That is   if I can make it thru the west and southside of Montgomery without being stopped by the punkass cops                              \n",
       "3  Good stuff med  Strax ï¿½ver en timme lï¿½ng  check it    Tack                                                                              \n",
       "4  Tomorrow I begin a two day shoot for an online retailer  I ll be posing in various garments    I love it                                    \n",
       "5   Good morning                                                                                                                               \n",
       "6  In Melbourne Australia  Thursday 7th May there is a Body Balance info night  tasting and free bottle  Direct message me email for details   \n",
       "7      XOXO                                                                                                                                    \n",
       "8   have a happy day                                                                                                                           \n",
       "9   That was coolio    lt 3 I left reviews and fatty fuel                                                                                      "
      ]
     },
     "execution_count": 12,
     "metadata": {},
     "output_type": "execute_result"
    }
   ],
   "source": [
    "#Replace punctuation with whitespace\n",
    "df['clean_text'] = df['clean_text'].apply(lambda x: re.sub(\"\"\"['!\"#$%&\\'()*+,-./:;<=>?@[\\\\]^_`{|}~']\"\"\",\n",
    "                                                                  \" \", x))\n",
    "df.head(10)"
   ]
  },
  {
   "cell_type": "code",
   "execution_count": 13,
   "metadata": {},
   "outputs": [
    {
     "name": "stderr",
     "output_type": "stream",
     "text": [
      "C:\\Users\\Anuroop\\Anaconda3\\lib\\site-packages\\ipykernel_launcher.py:2: SettingWithCopyWarning: \n",
      "A value is trying to be set on a copy of a slice from a DataFrame.\n",
      "Try using .loc[row_indexer,col_indexer] = value instead\n",
      "\n",
      "See the caveats in the documentation: http://pandas.pydata.org/pandas-docs/stable/indexing.html#indexing-view-versus-copy\n",
      "  \n"
     ]
    },
    {
     "data": {
      "text/html": [
       "<div>\n",
       "<style scoped>\n",
       "    .dataframe tbody tr th:only-of-type {\n",
       "        vertical-align: middle;\n",
       "    }\n",
       "\n",
       "    .dataframe tbody tr th {\n",
       "        vertical-align: top;\n",
       "    }\n",
       "\n",
       "    .dataframe thead th {\n",
       "        text-align: right;\n",
       "    }\n",
       "</style>\n",
       "<table border=\"1\" class=\"dataframe\">\n",
       "  <thead>\n",
       "    <tr style=\"text-align: right;\">\n",
       "      <th></th>\n",
       "      <th>text</th>\n",
       "      <th>label</th>\n",
       "      <th>clean_text</th>\n",
       "    </tr>\n",
       "  </thead>\n",
       "  <tbody>\n",
       "    <tr>\n",
       "      <th>0</th>\n",
       "      <td>@vallywally LOL.. Damm U make commision when SHE wins.. NICEE..  BTW.. What do u play when ure there?</td>\n",
       "      <td>0</td>\n",
       "      <td>lol   damm u make commision when she wins   nicee    btw   what do u play when ure there</td>\n",
       "    </tr>\n",
       "    <tr>\n",
       "      <th>1</th>\n",
       "      <td>@k80bug Ohhh I used to make those when I was operations there</td>\n",
       "      <td>0</td>\n",
       "      <td>ohhh i used to make those when i was operations there</td>\n",
       "    </tr>\n",
       "    <tr>\n",
       "      <th>2</th>\n",
       "      <td>That is...if I can make it thru the west and southside of Montgomery without being stopped by the punkass cops.</td>\n",
       "      <td>0</td>\n",
       "      <td>that is   if i can make it thru the west and southside of montgomery without being stopped by the punkass cops</td>\n",
       "    </tr>\n",
       "    <tr>\n",
       "      <th>3</th>\n",
       "      <td>Good stuff med @ericries Strax ï¿½ver en timme lï¿½ng, check it! http://bit.ly/15Vumv  Tack @emileifrem !!</td>\n",
       "      <td>0</td>\n",
       "      <td>good stuff med  strax    ver en timme l   ng  check it    tack</td>\n",
       "    </tr>\n",
       "    <tr>\n",
       "      <th>4</th>\n",
       "      <td>Tomorrow I begin a two day shoot for an online retailer. I'll be posing in various garments... I love it!</td>\n",
       "      <td>0</td>\n",
       "      <td>tomorrow i begin a two day shoot for an online retailer  i ll be posing in various garments    i love it</td>\n",
       "    </tr>\n",
       "    <tr>\n",
       "      <th>5</th>\n",
       "      <td>@hillkath Good morning.</td>\n",
       "      <td>0</td>\n",
       "      <td>good morning</td>\n",
       "    </tr>\n",
       "    <tr>\n",
       "      <th>6</th>\n",
       "      <td>In Melbourne Australia, Thursday 7th May there is a Body Balance info night, tasting and free bottle! Direct message me email for details</td>\n",
       "      <td>0</td>\n",
       "      <td>in melbourne australia  thursday  th may there is a body balance info night  tasting and free bottle  direct message me email for details</td>\n",
       "    </tr>\n",
       "    <tr>\n",
       "      <th>7</th>\n",
       "      <td>@therealswizzz http://twitpic.com/5eyah - XOXO</td>\n",
       "      <td>0</td>\n",
       "      <td>xoxo</td>\n",
       "    </tr>\n",
       "    <tr>\n",
       "      <th>8</th>\n",
       "      <td>@SashaKane have a happy day</td>\n",
       "      <td>0</td>\n",
       "      <td>have a happy day</td>\n",
       "    </tr>\n",
       "    <tr>\n",
       "      <th>9</th>\n",
       "      <td>@VivaLaCaro That was coolio!  &amp;lt;3 I left reviews and fatty fuel.</td>\n",
       "      <td>0</td>\n",
       "      <td>that was coolio    lt   i left reviews and fatty fuel</td>\n",
       "    </tr>\n",
       "  </tbody>\n",
       "</table>\n",
       "</div>"
      ],
      "text/plain": [
       "                                                                                                                                         text  \\\n",
       "0  @vallywally LOL.. Damm U make commision when SHE wins.. NICEE..  BTW.. What do u play when ure there?                                        \n",
       "1  @k80bug Ohhh I used to make those when I was operations there                                                                                \n",
       "2  That is...if I can make it thru the west and southside of Montgomery without being stopped by the punkass cops.                              \n",
       "3  Good stuff med @ericries Strax ï¿½ver en timme lï¿½ng, check it! http://bit.ly/15Vumv  Tack @emileifrem !!                                   \n",
       "4  Tomorrow I begin a two day shoot for an online retailer. I'll be posing in various garments... I love it!                                    \n",
       "5  @hillkath Good morning.                                                                                                                      \n",
       "6  In Melbourne Australia, Thursday 7th May there is a Body Balance info night, tasting and free bottle! Direct message me email for details    \n",
       "7  @therealswizzz http://twitpic.com/5eyah - XOXO                                                                                               \n",
       "8  @SashaKane have a happy day                                                                                                                  \n",
       "9  @VivaLaCaro That was coolio!  &lt;3 I left reviews and fatty fuel.                                                                           \n",
       "\n",
       "   label  \\\n",
       "0  0       \n",
       "1  0       \n",
       "2  0       \n",
       "3  0       \n",
       "4  0       \n",
       "5  0       \n",
       "6  0       \n",
       "7  0       \n",
       "8  0       \n",
       "9  0       \n",
       "\n",
       "                                                                                                                                   clean_text  \n",
       "0   lol   damm u make commision when she wins   nicee    btw   what do u play when ure there                                                   \n",
       "1   ohhh i used to make those when i was operations there                                                                                      \n",
       "2  that is   if i can make it thru the west and southside of montgomery without being stopped by the punkass cops                              \n",
       "3  good stuff med  strax    ver en timme l   ng  check it    tack                                                                              \n",
       "4  tomorrow i begin a two day shoot for an online retailer  i ll be posing in various garments    i love it                                    \n",
       "5   good morning                                                                                                                               \n",
       "6  in melbourne australia  thursday  th may there is a body balance info night  tasting and free bottle  direct message me email for details   \n",
       "7      xoxo                                                                                                                                    \n",
       "8   have a happy day                                                                                                                           \n",
       "9   that was coolio    lt   i left reviews and fatty fuel                                                                                      "
      ]
     },
     "execution_count": 13,
     "metadata": {},
     "output_type": "execute_result"
    }
   ],
   "source": [
    "#Remove numbers, code below will remove all non alphabets and convert to lowercase\n",
    "df['clean_text'] = df['clean_text'].apply(lambda x: re.sub('[^A-Za-z]', ' ', x.lower()))\n",
    "#^ = Negation\n",
    "#Verify\n",
    "df.head(10)"
   ]
  },
  {
   "cell_type": "code",
   "execution_count": 26,
   "metadata": {},
   "outputs": [
    {
     "name": "stderr",
     "output_type": "stream",
     "text": [
      "C:\\Users\\Anuroop\\Anaconda3\\lib\\site-packages\\ipykernel_launcher.py:8: SettingWithCopyWarning: \n",
      "A value is trying to be set on a copy of a slice from a DataFrame.\n",
      "Try using .loc[row_indexer,col_indexer] = value instead\n",
      "\n",
      "See the caveats in the documentation: http://pandas.pydata.org/pandas-docs/stable/indexing.html#indexing-view-versus-copy\n",
      "  \n"
     ]
    },
    {
     "data": {
      "text/html": [
       "<div>\n",
       "<style scoped>\n",
       "    .dataframe tbody tr th:only-of-type {\n",
       "        vertical-align: middle;\n",
       "    }\n",
       "\n",
       "    .dataframe tbody tr th {\n",
       "        vertical-align: top;\n",
       "    }\n",
       "\n",
       "    .dataframe thead th {\n",
       "        text-align: right;\n",
       "    }\n",
       "</style>\n",
       "<table border=\"1\" class=\"dataframe\">\n",
       "  <thead>\n",
       "    <tr style=\"text-align: right;\">\n",
       "      <th></th>\n",
       "      <th>text</th>\n",
       "      <th>label</th>\n",
       "      <th>clean_text</th>\n",
       "    </tr>\n",
       "  </thead>\n",
       "  <tbody>\n",
       "    <tr>\n",
       "      <th>0</th>\n",
       "      <td>@vallywally LOL.. Damm U make commision when SHE wins.. NICEE..  BTW.. What do u play when ure there?</td>\n",
       "      <td>0</td>\n",
       "      <td>lol  damm u make commision when she wins  nicee  btw  what do u play when ure there</td>\n",
       "    </tr>\n",
       "    <tr>\n",
       "      <th>1</th>\n",
       "      <td>@k80bug Ohhh I used to make those when I was operations there</td>\n",
       "      <td>0</td>\n",
       "      <td>ohh i used to make those when i was operations there</td>\n",
       "    </tr>\n",
       "    <tr>\n",
       "      <th>2</th>\n",
       "      <td>That is...if I can make it thru the west and southside of Montgomery without being stopped by the punkass cops.</td>\n",
       "      <td>0</td>\n",
       "      <td>that is  if i can make it thru the west and southside of montgomery without being stopped by the punkass cops</td>\n",
       "    </tr>\n",
       "    <tr>\n",
       "      <th>3</th>\n",
       "      <td>Good stuff med @ericries Strax ï¿½ver en timme lï¿½ng, check it! http://bit.ly/15Vumv  Tack @emileifrem !!</td>\n",
       "      <td>0</td>\n",
       "      <td>good stuff med  strax  ver en timme l  ng  check it  tack</td>\n",
       "    </tr>\n",
       "    <tr>\n",
       "      <th>4</th>\n",
       "      <td>Tomorrow I begin a two day shoot for an online retailer. I'll be posing in various garments... I love it!</td>\n",
       "      <td>0</td>\n",
       "      <td>tomorrow i begin a two day shoot for an online retailer  i ll be posing in various garments  i love it</td>\n",
       "    </tr>\n",
       "  </tbody>\n",
       "</table>\n",
       "</div>"
      ],
      "text/plain": [
       "                                                                                                                text  \\\n",
       "0  @vallywally LOL.. Damm U make commision when SHE wins.. NICEE..  BTW.. What do u play when ure there?               \n",
       "1  @k80bug Ohhh I used to make those when I was operations there                                                       \n",
       "2  That is...if I can make it thru the west and southside of Montgomery without being stopped by the punkass cops.     \n",
       "3  Good stuff med @ericries Strax ï¿½ver en timme lï¿½ng, check it! http://bit.ly/15Vumv  Tack @emileifrem !!          \n",
       "4  Tomorrow I begin a two day shoot for an online retailer. I'll be posing in various garments... I love it!           \n",
       "\n",
       "   label  \\\n",
       "0  0       \n",
       "1  0       \n",
       "2  0       \n",
       "3  0       \n",
       "4  0       \n",
       "\n",
       "                                                                                                        clean_text  \n",
       "0   lol  damm u make commision when she wins  nicee  btw  what do u play when ure there                             \n",
       "1   ohh i used to make those when i was operations there                                                            \n",
       "2  that is  if i can make it thru the west and southside of montgomery without being stopped by the punkass cops    \n",
       "3  good stuff med  strax  ver en timme l  ng  check it  tack                                                        \n",
       "4  tomorrow i begin a two day shoot for an online retailer  i ll be posing in various garments  i love it           "
      ]
     },
     "execution_count": 26,
     "metadata": {},
     "output_type": "execute_result"
    }
   ],
   "source": [
    "###############Remove letters repeated more than twice in succession\n",
    "#Create a function\n",
    "def trim_repeated_letters(sentence):\n",
    "    return(reduce(lambda x,y: x+y if x[-2:] != y*2 else x, sentence, \"\"))\n",
    "    \n",
    "\n",
    "#Apply function to sample_df\n",
    "df['clean_text'] = df['clean_text'].apply(lambda x: trim_repeated_letters(x) )\n",
    "df.head()"
   ]
  },
  {
   "cell_type": "markdown",
   "metadata": {},
   "source": [
    "All data cleaning steps used above will be compiled into one **df cleaning function** as it will have to be used multiple times"
   ]
  },
  {
   "cell_type": "code",
   "execution_count": 30,
   "metadata": {},
   "outputs": [],
   "source": [
    "#Repeated letters func\n",
    "def trim_repeated_letters(sentence):\n",
    "    return(reduce(lambda x,y: x+y if x[-2:] != y*2 else x, sentence, \"\"))\n",
    "\n",
    "#Compile allsteps above into one function for future use\n",
    "def text_df_cleaner(df):\n",
    "    '''\n",
    "    Cleans 'text' column of a df and creates a new column 'clean_text' with clean text\n",
    "    '''\n",
    "    df['clean_text'] = df['text'].apply(lambda x: re.sub(\"@[\\w]*\",\"\", x)) #User handles\n",
    "    df['clean_text'] = df['clean_text'].apply(lambda x: re.sub(\"#[\\w]*\",\"\", x)) #hash tags\n",
    "    df['clean_text'] = df['clean_text'].apply(lambda x: re.sub(\"http\\S+\", \"\", x)) #urls\n",
    "    df['clean_text'] = df['clean_text'].apply(lambda x: re.sub(\"\"\"['!\"#$%&\\'()*+,-./:;<=>?@[\\\\]^_`{|}~']\"\"\",\n",
    "                                                                  \" \", x)) #Punctuations\n",
    "    df['clean_text'] = df['clean_text'].apply(lambda x: re.sub('[^A-Za-z]', ' ', x.lower())) #Numbers and lowercase\n",
    "    #Repeated letters\n",
    "    df['clean_text'] = df['clean_text'].apply(lambda x: trim_repeated_letters(x))\n",
    "    return df\n",
    "    "
   ]
  },
  {
   "cell_type": "code",
   "execution_count": 37,
   "metadata": {},
   "outputs": [
    {
     "name": "stderr",
     "output_type": "stream",
     "text": [
      "C:\\Users\\Anuroop\\Anaconda3\\lib\\site-packages\\ipykernel_launcher.py:10: SettingWithCopyWarning: \n",
      "A value is trying to be set on a copy of a slice from a DataFrame.\n",
      "Try using .loc[row_indexer,col_indexer] = value instead\n",
      "\n",
      "See the caveats in the documentation: http://pandas.pydata.org/pandas-docs/stable/indexing.html#indexing-view-versus-copy\n",
      "  # Remove the CWD from sys.path while we load stuff.\n",
      "C:\\Users\\Anuroop\\Anaconda3\\lib\\site-packages\\ipykernel_launcher.py:11: SettingWithCopyWarning: \n",
      "A value is trying to be set on a copy of a slice from a DataFrame.\n",
      "Try using .loc[row_indexer,col_indexer] = value instead\n",
      "\n",
      "See the caveats in the documentation: http://pandas.pydata.org/pandas-docs/stable/indexing.html#indexing-view-versus-copy\n",
      "  # This is added back by InteractiveShellApp.init_path()\n",
      "C:\\Users\\Anuroop\\Anaconda3\\lib\\site-packages\\ipykernel_launcher.py:12: SettingWithCopyWarning: \n",
      "A value is trying to be set on a copy of a slice from a DataFrame.\n",
      "Try using .loc[row_indexer,col_indexer] = value instead\n",
      "\n",
      "See the caveats in the documentation: http://pandas.pydata.org/pandas-docs/stable/indexing.html#indexing-view-versus-copy\n",
      "  if sys.path[0] == '':\n",
      "C:\\Users\\Anuroop\\Anaconda3\\lib\\site-packages\\ipykernel_launcher.py:13: SettingWithCopyWarning: \n",
      "A value is trying to be set on a copy of a slice from a DataFrame.\n",
      "Try using .loc[row_indexer,col_indexer] = value instead\n",
      "\n",
      "See the caveats in the documentation: http://pandas.pydata.org/pandas-docs/stable/indexing.html#indexing-view-versus-copy\n",
      "  del sys.path[0]\n",
      "C:\\Users\\Anuroop\\Anaconda3\\lib\\site-packages\\ipykernel_launcher.py:15: SettingWithCopyWarning: \n",
      "A value is trying to be set on a copy of a slice from a DataFrame.\n",
      "Try using .loc[row_indexer,col_indexer] = value instead\n",
      "\n",
      "See the caveats in the documentation: http://pandas.pydata.org/pandas-docs/stable/indexing.html#indexing-view-versus-copy\n",
      "  from ipykernel import kernelapp as app\n",
      "C:\\Users\\Anuroop\\Anaconda3\\lib\\site-packages\\ipykernel_launcher.py:17: SettingWithCopyWarning: \n",
      "A value is trying to be set on a copy of a slice from a DataFrame.\n",
      "Try using .loc[row_indexer,col_indexer] = value instead\n",
      "\n",
      "See the caveats in the documentation: http://pandas.pydata.org/pandas-docs/stable/indexing.html#indexing-view-versus-copy\n"
     ]
    },
    {
     "data": {
      "text/html": [
       "<div>\n",
       "<style scoped>\n",
       "    .dataframe tbody tr th:only-of-type {\n",
       "        vertical-align: middle;\n",
       "    }\n",
       "\n",
       "    .dataframe tbody tr th {\n",
       "        vertical-align: top;\n",
       "    }\n",
       "\n",
       "    .dataframe thead th {\n",
       "        text-align: right;\n",
       "    }\n",
       "</style>\n",
       "<table border=\"1\" class=\"dataframe\">\n",
       "  <thead>\n",
       "    <tr style=\"text-align: right;\">\n",
       "      <th></th>\n",
       "      <th>text</th>\n",
       "      <th>label</th>\n",
       "      <th>clean_text</th>\n",
       "    </tr>\n",
       "  </thead>\n",
       "  <tbody>\n",
       "    <tr>\n",
       "      <th>50478</th>\n",
       "      <td>HATE safeway select green tea icecream! bought two cartons, what a waste of money.  &amp;gt;_&amp;lt;</td>\n",
       "      <td>1</td>\n",
       "      <td>hate safeway select green tea icecream  bought two cartons  what a waste of money  gt  lt</td>\n",
       "    </tr>\n",
       "    <tr>\n",
       "      <th>50479</th>\n",
       "      <td>argghhhh why won't  my jquery appear in safari bad safari !!!</td>\n",
       "      <td>1</td>\n",
       "      <td>argghh why won t  my jquery appear in safari bad safari</td>\n",
       "    </tr>\n",
       "    <tr>\n",
       "      <th>50480</th>\n",
       "      <td>I can't watch TV without a Tivo.  And after all these years, the Time/Warner DVR  STILL sucks. http://www.davehitt.com/march03/twdvr.html</td>\n",
       "      <td>1</td>\n",
       "      <td>i can t watch tv without a tivo  and after all these years  the time warner dvr  still sucks</td>\n",
       "    </tr>\n",
       "    <tr>\n",
       "      <th>50481</th>\n",
       "      <td>I still love my Kindle2 but reading The New York Times on it does not feel natural. I miss the Bloomingdale ads.</td>\n",
       "      <td>1</td>\n",
       "      <td>i still love my kindle  but reading the new york times on it does not feel natural  i miss the bloomingdale ads</td>\n",
       "    </tr>\n",
       "    <tr>\n",
       "      <th>50482</th>\n",
       "      <td>Although today's keynote rocked, for every great announcement, AT&amp;amp;T shit on us just a little bit more.</td>\n",
       "      <td>1</td>\n",
       "      <td>although today s keynote rocked  for every great announcement  at amp t shit on us just a little bit more</td>\n",
       "    </tr>\n",
       "  </tbody>\n",
       "</table>\n",
       "</div>"
      ],
      "text/plain": [
       "                                                                                                                                            text  \\\n",
       "50478  HATE safeway select green tea icecream! bought two cartons, what a waste of money.  &gt;_&lt;                                               \n",
       "50479  argghhhh why won't  my jquery appear in safari bad safari !!!                                                                               \n",
       "50480  I can't watch TV without a Tivo.  And after all these years, the Time/Warner DVR  STILL sucks. http://www.davehitt.com/march03/twdvr.html   \n",
       "50481  I still love my Kindle2 but reading The New York Times on it does not feel natural. I miss the Bloomingdale ads.                            \n",
       "50482  Although today's keynote rocked, for every great announcement, AT&amp;T shit on us just a little bit more.                                  \n",
       "\n",
       "       label  \\\n",
       "50478  1       \n",
       "50479  1       \n",
       "50480  1       \n",
       "50481  1       \n",
       "50482  1       \n",
       "\n",
       "                                                                                                             clean_text  \n",
       "50478  hate safeway select green tea icecream  bought two cartons  what a waste of money  gt  lt                         \n",
       "50479  argghh why won t  my jquery appear in safari bad safari                                                           \n",
       "50480  i can t watch tv without a tivo  and after all these years  the time warner dvr  still sucks                      \n",
       "50481  i still love my kindle  but reading the new york times on it does not feel natural  i miss the bloomingdale ads   \n",
       "50482  although today s keynote rocked  for every great announcement  at amp t shit on us just a little bit more         "
      ]
     },
     "execution_count": 37,
     "metadata": {},
     "output_type": "execute_result"
    }
   ],
   "source": [
    "#Verify function\n",
    "trial_df = master_df.tail(20)\n",
    "text_df_cleaner(trial_df)\n",
    "trial_df.head()\n",
    "#Function is working properly"
   ]
  },
  {
   "cell_type": "code",
   "execution_count": null,
   "metadata": {},
   "outputs": [],
   "source": []
  },
  {
   "cell_type": "code",
   "execution_count": null,
   "metadata": {},
   "outputs": [],
   "source": []
  },
  {
   "cell_type": "code",
   "execution_count": null,
   "metadata": {},
   "outputs": [],
   "source": []
  },
  {
   "cell_type": "code",
   "execution_count": null,
   "metadata": {},
   "outputs": [],
   "source": []
  },
  {
   "cell_type": "code",
   "execution_count": null,
   "metadata": {},
   "outputs": [],
   "source": []
  },
  {
   "cell_type": "code",
   "execution_count": null,
   "metadata": {},
   "outputs": [],
   "source": []
  },
  {
   "cell_type": "code",
   "execution_count": null,
   "metadata": {},
   "outputs": [],
   "source": []
  },
  {
   "cell_type": "code",
   "execution_count": null,
   "metadata": {},
   "outputs": [],
   "source": []
  },
  {
   "cell_type": "code",
   "execution_count": null,
   "metadata": {},
   "outputs": [],
   "source": []
  },
  {
   "cell_type": "code",
   "execution_count": null,
   "metadata": {},
   "outputs": [],
   "source": []
  },
  {
   "cell_type": "code",
   "execution_count": null,
   "metadata": {},
   "outputs": [],
   "source": []
  },
  {
   "cell_type": "code",
   "execution_count": null,
   "metadata": {},
   "outputs": [],
   "source": []
  },
  {
   "cell_type": "code",
   "execution_count": null,
   "metadata": {},
   "outputs": [],
   "source": []
  },
  {
   "cell_type": "code",
   "execution_count": null,
   "metadata": {},
   "outputs": [],
   "source": []
  },
  {
   "cell_type": "code",
   "execution_count": null,
   "metadata": {},
   "outputs": [],
   "source": []
  },
  {
   "cell_type": "code",
   "execution_count": 37,
   "metadata": {},
   "outputs": [
    {
     "data": {
      "text/plain": [
       "' - XOXO'"
      ]
     },
     "execution_count": 37,
     "metadata": {},
     "output_type": "execute_result"
    }
   ],
   "source": [
    "a = 'http://twitpic.com/5eyah - XOXO'\n",
    "re.sub(\"http\\S+\", \"\", a)"
   ]
  },
  {
   "cell_type": "code",
   "execution_count": 27,
   "metadata": {},
   "outputs": [
    {
     "data": {
      "text/plain": [
       "'@therealswizzz  - XOXO'"
      ]
     },
     "execution_count": 27,
     "metadata": {},
     "output_type": "execute_result"
    }
   ],
   "source": [
    "a = '@therealswizzz https://twitpic.com/5eyah - XOXO'\n",
    "re.sub(\"http\\S+\", \"\", a)"
   ]
  },
  {
   "cell_type": "code",
   "execution_count": 6,
   "metadata": {},
   "outputs": [
    {
     "data": {
      "text/plain": [
       "'!\"#$%&\\'()*+,-./:;<=>?@[\\\\]^_`{|}~'"
      ]
     },
     "execution_count": 6,
     "metadata": {},
     "output_type": "execute_result"
    }
   ],
   "source": [
    "#Get punctuations\n",
    "string.punctuation"
   ]
  },
  {
   "cell_type": "code",
   "execution_count": 7,
   "metadata": {},
   "outputs": [
    {
     "name": "stderr",
     "output_type": "stream",
     "text": [
      "C:\\Users\\Anuroop\\Anaconda3\\lib\\site-packages\\ipykernel_launcher.py:2: SettingWithCopyWarning: \n",
      "A value is trying to be set on a copy of a slice from a DataFrame.\n",
      "Try using .loc[row_indexer,col_indexer] = value instead\n",
      "\n",
      "See the caveats in the documentation: http://pandas.pydata.org/pandas-docs/stable/indexing.html#indexing-view-versus-copy\n",
      "  \n"
     ]
    }
   ],
   "source": [
    "#Replace punctuation with whitespace\n",
    "sample_df['clean_text'] = sample_df['text'].apply(lambda x: re.sub(\"\"\"['\"#$%&\\'()*+,-./:;<=>?@[\\\\]^_`{|}~']\"\"\",\n",
    "                                                                  \" \", x))"
   ]
  },
  {
   "cell_type": "code",
   "execution_count": 8,
   "metadata": {},
   "outputs": [
    {
     "data": {
      "text/plain": [
       "0      vallywally LOL   Damm U make commision when SHE wins   NICEE    BTW   What do u play when ure there                                             \n",
       "1      k80bug Ohhh I used to make those when I was operations there                                                                                    \n",
       "2     That is   if I can make it thru the west and southside of Montgomery without being stopped by the punkass cops                                   \n",
       "3     Good stuff med  ericries Strax ï¿½ver en timme lï¿½ng  check it! http   bit ly 15Vumv  Tack  emileifrem !!                                       \n",
       "4     Tomorrow I begin a two day shoot for an online retailer  I ll be posing in various garments    I love it!                                        \n",
       "5      hillkath Good morning                                                                                                                           \n",
       "6     In Melbourne Australia  Thursday 7th May there is a Body Balance info night  tasting and free bottle! Direct message me email for details        \n",
       "7      therealswizzz http   twitpic com 5eyah   XOXO                                                                                                   \n",
       "8      SashaKane have a happy day                                                                                                                      \n",
       "9      VivaLaCaro That was coolio!   lt 3 I left reviews and fatty fuel                                                                                \n",
       "10     ohmahcarol Can you please lock it in  !                                                                                                         \n",
       "11     EyekoBeauty Got my stuff this morning and i LOVE it gunna use everything for my sisters bridal makeup today  need more !                        \n",
       "12     heregoessteph every fucking day baby   D all miley jonas disneywank reminds me of you  hey monday deffo doesn t though                          \n",
       "13    coffee bean nights  gotta love  em! rackam s zombie show was rad    got me a hello kitty zombie painting!                                        \n",
       "14     lsbsuperfreak Get 100 followers a day using www tweeteradder com Once you add everyone you are on the train or pay vip                          \n",
       "15    it is so cute watching Matt play with the Wii as I do some work                                                                                  \n",
       "16    found my phone                                                                                                                                   \n",
       "17    http   twitpic com 5ej4y   My favorite neurotic sister                                                                                           \n",
       "18     EmmaJaney ohh  yeah well  im sick today so i win                                                                                                \n",
       "19     mneylon IÂ´ll pack my poncho  On a separate note  can you tag that pic  quot icann quot  so i can check if the flickr feed on icann mobi works  \n",
       "20     Trippypeas HAPPY B DAY!!!! Working on your thing right now                                                                                      \n",
       "21     LauraDunne MAKE ME SOME                                                                                                                         \n",
       "22     aplusk Why do you have traffic lights as your backround                                                                                         \n",
       "23     mileycyrus hi miley  i loved you re movie it was amazing !                                                                                      \n",
       "24    still keep crocheting n thinking if i should watch  fringe as well   crochet                                                                     \n",
       "Name: clean_text, dtype: object"
      ]
     },
     "execution_count": 8,
     "metadata": {},
     "output_type": "execute_result"
    }
   ],
   "source": [
    "sample_df['clean_text']"
   ]
  },
  {
   "cell_type": "code",
   "execution_count": null,
   "metadata": {},
   "outputs": [],
   "source": [
    "#Remove user handles \n",
    "master_df['clean_text'] = train['clean_tweet'].apply(lambda x: re.sub(\"@[\\w]*\", '', x))\n"
   ]
  },
  {
   "cell_type": "code",
   "execution_count": 32,
   "metadata": {},
   "outputs": [
    {
     "ename": "IndexError",
     "evalue": "list index out of range",
     "output_type": "error",
     "traceback": [
      "\u001b[1;31m---------------------------------------------------------------------------\u001b[0m",
      "\u001b[1;31mIndexError\u001b[0m                                Traceback (most recent call last)",
      "\u001b[1;32m<ipython-input-32-404951ca6b8e>\u001b[0m in \u001b[0;36m<module>\u001b[1;34m()\u001b[0m\n\u001b[1;32m----> 1\u001b[1;33m \u001b[0mmaster_df\u001b[0m\u001b[1;33m[\u001b[0m\u001b[1;34m'url'\u001b[0m\u001b[1;33m]\u001b[0m \u001b[1;33m=\u001b[0m \u001b[0mmaster_df\u001b[0m\u001b[1;33m[\u001b[0m\u001b[1;34m'text'\u001b[0m\u001b[1;33m]\u001b[0m\u001b[1;33m.\u001b[0m\u001b[0mapply\u001b[0m\u001b[1;33m(\u001b[0m\u001b[1;32mlambda\u001b[0m \u001b[0mx\u001b[0m\u001b[1;33m:\u001b[0m \u001b[0mre\u001b[0m\u001b[1;33m.\u001b[0m\u001b[0mfindall\u001b[0m\u001b[1;33m(\u001b[0m\u001b[1;34m\"http://[\\w]*\"\u001b[0m\u001b[1;33m,\u001b[0m \u001b[0mx\u001b[0m\u001b[1;33m)\u001b[0m\u001b[1;33m[\u001b[0m\u001b[1;36m0\u001b[0m\u001b[1;33m]\u001b[0m\u001b[1;33m)\u001b[0m\u001b[1;33m\u001b[0m\u001b[0m\n\u001b[0m",
      "\u001b[1;32m~\\Anaconda3\\lib\\site-packages\\pandas\\core\\series.py\u001b[0m in \u001b[0;36mapply\u001b[1;34m(self, func, convert_dtype, args, **kwds)\u001b[0m\n\u001b[0;32m   3192\u001b[0m             \u001b[1;32melse\u001b[0m\u001b[1;33m:\u001b[0m\u001b[1;33m\u001b[0m\u001b[0m\n\u001b[0;32m   3193\u001b[0m                 \u001b[0mvalues\u001b[0m \u001b[1;33m=\u001b[0m \u001b[0mself\u001b[0m\u001b[1;33m.\u001b[0m\u001b[0mastype\u001b[0m\u001b[1;33m(\u001b[0m\u001b[0mobject\u001b[0m\u001b[1;33m)\u001b[0m\u001b[1;33m.\u001b[0m\u001b[0mvalues\u001b[0m\u001b[1;33m\u001b[0m\u001b[0m\n\u001b[1;32m-> 3194\u001b[1;33m                 \u001b[0mmapped\u001b[0m \u001b[1;33m=\u001b[0m \u001b[0mlib\u001b[0m\u001b[1;33m.\u001b[0m\u001b[0mmap_infer\u001b[0m\u001b[1;33m(\u001b[0m\u001b[0mvalues\u001b[0m\u001b[1;33m,\u001b[0m \u001b[0mf\u001b[0m\u001b[1;33m,\u001b[0m \u001b[0mconvert\u001b[0m\u001b[1;33m=\u001b[0m\u001b[0mconvert_dtype\u001b[0m\u001b[1;33m)\u001b[0m\u001b[1;33m\u001b[0m\u001b[0m\n\u001b[0m\u001b[0;32m   3195\u001b[0m \u001b[1;33m\u001b[0m\u001b[0m\n\u001b[0;32m   3196\u001b[0m         \u001b[1;32mif\u001b[0m \u001b[0mlen\u001b[0m\u001b[1;33m(\u001b[0m\u001b[0mmapped\u001b[0m\u001b[1;33m)\u001b[0m \u001b[1;32mand\u001b[0m \u001b[0misinstance\u001b[0m\u001b[1;33m(\u001b[0m\u001b[0mmapped\u001b[0m\u001b[1;33m[\u001b[0m\u001b[1;36m0\u001b[0m\u001b[1;33m]\u001b[0m\u001b[1;33m,\u001b[0m \u001b[0mSeries\u001b[0m\u001b[1;33m)\u001b[0m\u001b[1;33m:\u001b[0m\u001b[1;33m\u001b[0m\u001b[0m\n",
      "\u001b[1;32mpandas/_libs/src\\inference.pyx\u001b[0m in \u001b[0;36mpandas._libs.lib.map_infer\u001b[1;34m()\u001b[0m\n",
      "\u001b[1;32m<ipython-input-32-404951ca6b8e>\u001b[0m in \u001b[0;36m<lambda>\u001b[1;34m(x)\u001b[0m\n\u001b[1;32m----> 1\u001b[1;33m \u001b[0mmaster_df\u001b[0m\u001b[1;33m[\u001b[0m\u001b[1;34m'url'\u001b[0m\u001b[1;33m]\u001b[0m \u001b[1;33m=\u001b[0m \u001b[0mmaster_df\u001b[0m\u001b[1;33m[\u001b[0m\u001b[1;34m'text'\u001b[0m\u001b[1;33m]\u001b[0m\u001b[1;33m.\u001b[0m\u001b[0mapply\u001b[0m\u001b[1;33m(\u001b[0m\u001b[1;32mlambda\u001b[0m \u001b[0mx\u001b[0m\u001b[1;33m:\u001b[0m \u001b[0mre\u001b[0m\u001b[1;33m.\u001b[0m\u001b[0mfindall\u001b[0m\u001b[1;33m(\u001b[0m\u001b[1;34m\"http://[\\w]*\"\u001b[0m\u001b[1;33m,\u001b[0m \u001b[0mx\u001b[0m\u001b[1;33m)\u001b[0m\u001b[1;33m[\u001b[0m\u001b[1;36m0\u001b[0m\u001b[1;33m]\u001b[0m\u001b[1;33m)\u001b[0m\u001b[1;33m\u001b[0m\u001b[0m\n\u001b[0m",
      "\u001b[1;31mIndexError\u001b[0m: list index out of range"
     ]
    }
   ],
   "source": [
    "master_df['url'] = master_df['text'].apply(lambda x: re.findall(\"http://[\\w]*\", x))"
   ]
  },
  {
   "cell_type": "code",
   "execution_count": 30,
   "metadata": {},
   "outputs": [
    {
     "data": {
      "text/plain": [
       "[]                                                                                                        49140\n",
       "[http://twitpic]                                                                                          351  \n",
       "[http://bit]                                                                                              269  \n",
       "[http://tinyurl]                                                                                          138  \n",
       "[http://www]                                                                                              93   \n",
       "[http://plurk]                                                                                            79   \n",
       "[http://blip]                                                                                             51   \n",
       "[http://myloc]                                                                                            34   \n",
       "[http://www, http://g, http://www, http://g, http://g, http://www, http://ecx, http://ecx, http://ecx]    23   \n",
       "[http://yfrog]                                                                                            22   \n",
       "[http://tumblr]                                                                                           22   \n",
       "[http://is]                                                                                               22   \n",
       "[http://ustre]                                                                                            14   \n",
       "[http://tr]                                                                                               13   \n",
       "[http://tweet]                                                                                            10   \n",
       "[http://bkite]                                                                                            7    \n",
       "[http://ff]                                                                                               6    \n",
       "[http://mypict]                                                                                           6    \n",
       "[http://twitter]                                                                                          6    \n",
       "[http://ow]                                                                                               5    \n",
       "[http://ping]                                                                                             5    \n",
       "[http://twurl]                                                                                            4    \n",
       "[http://cli]                                                                                              4    \n",
       "[http://loopt]                                                                                            4    \n",
       "[http://digg]                                                                                             3    \n",
       "[http://fuzz]                                                                                             3    \n",
       "[http://apps]                                                                                             3    \n",
       "[http://www, http://www]                                                                                  3    \n",
       "[http://tinyurl, http://tinyurl]                                                                          3    \n",
       "[http://tiny]                                                                                             3    \n",
       "                                                                                                         ..    \n",
       "[http://lunabee]                                                                                          1    \n",
       "[http://tweetstats]                                                                                       1    \n",
       "[http://]                                                                                                 1    \n",
       "[http://PaidModels]                                                                                       1    \n",
       "[http://xoxoeternity]                                                                                     1    \n",
       "[http://fleck]                                                                                            1    \n",
       "[http://trafficcafe]                                                                                      1    \n",
       "[http://buzzup]                                                                                           1    \n",
       "[http://amzn, http://amzn]                                                                                1    \n",
       "[http://vimeo]                                                                                            1    \n",
       "[http://i39]                                                                                              1    \n",
       "[http://blanketmagazine]                                                                                  1    \n",
       "[http://friendster]                                                                                       1    \n",
       "[http://www, http://www, http://www]                                                                      1    \n",
       "[http://tykerq]                                                                                           1    \n",
       "[http://www, http://g, http://www, http://g, http://g, http://www, http://g, http://g, http://g]          1    \n",
       "[http://camsiwamsi]                                                                                       1    \n",
       "[http://flickr]                                                                                           1    \n",
       "[http://shanesweb]                                                                                        1    \n",
       "[http://textsfromlastnight]                                                                               1    \n",
       "[http://audioboo]                                                                                         1    \n",
       "[http://lang]                                                                                             1    \n",
       "[http://www, http://plurk]                                                                                1    \n",
       "[http://lastfmlovetweet]                                                                                  1    \n",
       "[http://chuuzr]                                                                                           1    \n",
       "[http://twtpoll]                                                                                          1    \n",
       "[http://soundcloud]                                                                                       1    \n",
       "[http://issuu]                                                                                            1    \n",
       "[http://voodoomaggie]                                                                                     1    \n",
       "[http://bit, http://twurl]                                                                                1    \n",
       "Name: url, Length: 162, dtype: int64"
      ]
     },
     "execution_count": 30,
     "metadata": {},
     "output_type": "execute_result"
    }
   ],
   "source": [
    "master_df['url'].value_counts()"
   ]
  },
  {
   "cell_type": "code",
   "execution_count": 31,
   "metadata": {},
   "outputs": [
    {
     "data": {
      "text/plain": [
       "[]                                                                                                        24277\n",
       "[http://twitpic]                                                                                          268  \n",
       "[http://bit]                                                                                              221  \n",
       "[http://tinyurl]                                                                                          103  \n",
       "[http://www]                                                                                              73   \n",
       "[http://blip]                                                                                             47   \n",
       "[http://plurk]                                                                                            45   \n",
       "[http://yfrog]                                                                                            19   \n",
       "[http://myloc]                                                                                            18   \n",
       "[http://is]                                                                                               17   \n",
       "[http://tumblr]                                                                                           15   \n",
       "[http://ustre]                                                                                            12   \n",
       "[http://www, http://g, http://www, http://g, http://g, http://www, http://ecx, http://ecx, http://ecx]    12   \n",
       "[http://tr]                                                                                               9    \n",
       "[http://twitter]                                                                                          6    \n",
       "[http://ping]                                                                                             5    \n",
       "[http://ff]                                                                                               5    \n",
       "[http://bkite]                                                                                            5    \n",
       "[http://tweet]                                                                                            5    \n",
       "[http://ow]                                                                                               5    \n",
       "[http://mypict]                                                                                           5    \n",
       "[http://twurl]                                                                                            4    \n",
       "[http://cli]                                                                                              4    \n",
       "[http://u]                                                                                                3    \n",
       "[http://post]                                                                                             3    \n",
       "[http://loopt]                                                                                            3    \n",
       "[http://digg]                                                                                             3    \n",
       "[http://mobypicture]                                                                                      3    \n",
       "[http://tinyurl, http://tinyurl]                                                                          3    \n",
       "[http://tiny]                                                                                             3    \n",
       "                                                                                                         ..    \n",
       "[http://thesillyshepherd]                                                                                 1    \n",
       "[http://friendster]                                                                                       1    \n",
       "[http://tr, http://superfeedr]                                                                            1    \n",
       "[http://publicenemies]                                                                                    1    \n",
       "[http://twitpic, http://ff]                                                                               1    \n",
       "[http://shar]                                                                                             1    \n",
       "[http://codylindley]                                                                                      1    \n",
       "[http://ru]                                                                                               1    \n",
       "[http://vesouza]                                                                                          1    \n",
       "[http://moshang]                                                                                          1    \n",
       "[http://icons]                                                                                            1    \n",
       "[http://atomurl]                                                                                          1    \n",
       "[http://i39]                                                                                              1    \n",
       "[http://vimeo]                                                                                            1    \n",
       "[http://promotion]                                                                                        1    \n",
       "[http://bit, http://twurl]                                                                                1    \n",
       "[http://twt]                                                                                              1    \n",
       "[http://trafficcafe]                                                                                      1    \n",
       "[http://fleck]                                                                                            1    \n",
       "[http://PaidModels]                                                                                       1    \n",
       "[http://img]                                                                                              1    \n",
       "[http://]                                                                                                 1    \n",
       "[http://tweetstats]                                                                                       1    \n",
       "[http://lunabee]                                                                                          1    \n",
       "[http://sn]                                                                                               1    \n",
       "[http://brittnicole]                                                                                      1    \n",
       "[http://bleedingboy52]                                                                                    1    \n",
       "[http://blanketmagazine]                                                                                  1    \n",
       "[http://xoxoeternity]                                                                                     1    \n",
       "[http://bit, http://bit, http://bit]                                                                      1    \n",
       "Name: url, Length: 138, dtype: int64"
      ]
     },
     "execution_count": 31,
     "metadata": {},
     "output_type": "execute_result"
    }
   ],
   "source": [
    "master_df[master_df['label'] == 0]['url'].value_counts()"
   ]
  },
  {
   "cell_type": "code",
   "execution_count": null,
   "metadata": {},
   "outputs": [],
   "source": []
  },
  {
   "cell_type": "code",
   "execution_count": null,
   "metadata": {},
   "outputs": [],
   "source": []
  },
  {
   "cell_type": "code",
   "execution_count": null,
   "metadata": {},
   "outputs": [],
   "source": []
  },
  {
   "cell_type": "code",
   "execution_count": null,
   "metadata": {},
   "outputs": [],
   "source": []
  },
  {
   "cell_type": "code",
   "execution_count": null,
   "metadata": {},
   "outputs": [],
   "source": []
  },
  {
   "cell_type": "code",
   "execution_count": null,
   "metadata": {},
   "outputs": [],
   "source": []
  },
  {
   "cell_type": "code",
   "execution_count": null,
   "metadata": {},
   "outputs": [],
   "source": []
  },
  {
   "cell_type": "code",
   "execution_count": null,
   "metadata": {},
   "outputs": [],
   "source": []
  },
  {
   "cell_type": "code",
   "execution_count": null,
   "metadata": {},
   "outputs": [],
   "source": []
  },
  {
   "cell_type": "code",
   "execution_count": null,
   "metadata": {},
   "outputs": [],
   "source": []
  },
  {
   "cell_type": "code",
   "execution_count": null,
   "metadata": {},
   "outputs": [],
   "source": []
  },
  {
   "cell_type": "code",
   "execution_count": null,
   "metadata": {},
   "outputs": [],
   "source": []
  },
  {
   "cell_type": "code",
   "execution_count": null,
   "metadata": {},
   "outputs": [],
   "source": []
  },
  {
   "cell_type": "code",
   "execution_count": 25,
   "metadata": {},
   "outputs": [
    {
     "ename": "AttributeError",
     "evalue": "'list' object has no attribute 'list'",
     "output_type": "error",
     "traceback": [
      "\u001b[1;31m---------------------------------------------------------------------------\u001b[0m",
      "\u001b[1;31mAttributeError\u001b[0m                            Traceback (most recent call last)",
      "\u001b[1;32m<ipython-input-25-3c92bb247560>\u001b[0m in \u001b[0;36m<module>\u001b[1;34m()\u001b[0m\n\u001b[1;32m----> 1\u001b[1;33m \u001b[0msentiment_140_df\u001b[0m\u001b[1;33m[\u001b[0m\u001b[1;34m'hashtags'\u001b[0m\u001b[1;33m]\u001b[0m \u001b[1;33m=\u001b[0m \u001b[0msentiment_140_df\u001b[0m\u001b[1;33m[\u001b[0m\u001b[1;34m'text'\u001b[0m\u001b[1;33m]\u001b[0m\u001b[1;33m.\u001b[0m\u001b[0mapply\u001b[0m\u001b[1;33m(\u001b[0m\u001b[1;32mlambda\u001b[0m \u001b[0mx\u001b[0m\u001b[1;33m:\u001b[0m \u001b[0mre\u001b[0m\u001b[1;33m.\u001b[0m\u001b[0mfindall\u001b[0m\u001b[1;33m(\u001b[0m\u001b[1;34m\"#[\\w]*\"\u001b[0m\u001b[1;33m,\u001b[0m \u001b[0mx\u001b[0m\u001b[1;33m)\u001b[0m\u001b[1;33m.\u001b[0m\u001b[0mlist\u001b[0m\u001b[1;33m)\u001b[0m\u001b[1;33m\u001b[0m\u001b[0m\n\u001b[0m",
      "\u001b[1;32m~\\Anaconda3\\lib\\site-packages\\pandas\\core\\series.py\u001b[0m in \u001b[0;36mapply\u001b[1;34m(self, func, convert_dtype, args, **kwds)\u001b[0m\n\u001b[0;32m   3192\u001b[0m             \u001b[1;32melse\u001b[0m\u001b[1;33m:\u001b[0m\u001b[1;33m\u001b[0m\u001b[0m\n\u001b[0;32m   3193\u001b[0m                 \u001b[0mvalues\u001b[0m \u001b[1;33m=\u001b[0m \u001b[0mself\u001b[0m\u001b[1;33m.\u001b[0m\u001b[0mastype\u001b[0m\u001b[1;33m(\u001b[0m\u001b[0mobject\u001b[0m\u001b[1;33m)\u001b[0m\u001b[1;33m.\u001b[0m\u001b[0mvalues\u001b[0m\u001b[1;33m\u001b[0m\u001b[0m\n\u001b[1;32m-> 3194\u001b[1;33m                 \u001b[0mmapped\u001b[0m \u001b[1;33m=\u001b[0m \u001b[0mlib\u001b[0m\u001b[1;33m.\u001b[0m\u001b[0mmap_infer\u001b[0m\u001b[1;33m(\u001b[0m\u001b[0mvalues\u001b[0m\u001b[1;33m,\u001b[0m \u001b[0mf\u001b[0m\u001b[1;33m,\u001b[0m \u001b[0mconvert\u001b[0m\u001b[1;33m=\u001b[0m\u001b[0mconvert_dtype\u001b[0m\u001b[1;33m)\u001b[0m\u001b[1;33m\u001b[0m\u001b[0m\n\u001b[0m\u001b[0;32m   3195\u001b[0m \u001b[1;33m\u001b[0m\u001b[0m\n\u001b[0;32m   3196\u001b[0m         \u001b[1;32mif\u001b[0m \u001b[0mlen\u001b[0m\u001b[1;33m(\u001b[0m\u001b[0mmapped\u001b[0m\u001b[1;33m)\u001b[0m \u001b[1;32mand\u001b[0m \u001b[0misinstance\u001b[0m\u001b[1;33m(\u001b[0m\u001b[0mmapped\u001b[0m\u001b[1;33m[\u001b[0m\u001b[1;36m0\u001b[0m\u001b[1;33m]\u001b[0m\u001b[1;33m,\u001b[0m \u001b[0mSeries\u001b[0m\u001b[1;33m)\u001b[0m\u001b[1;33m:\u001b[0m\u001b[1;33m\u001b[0m\u001b[0m\n",
      "\u001b[1;32mpandas/_libs/src\\inference.pyx\u001b[0m in \u001b[0;36mpandas._libs.lib.map_infer\u001b[1;34m()\u001b[0m\n",
      "\u001b[1;32m<ipython-input-25-3c92bb247560>\u001b[0m in \u001b[0;36m<lambda>\u001b[1;34m(x)\u001b[0m\n\u001b[1;32m----> 1\u001b[1;33m \u001b[0msentiment_140_df\u001b[0m\u001b[1;33m[\u001b[0m\u001b[1;34m'hashtags'\u001b[0m\u001b[1;33m]\u001b[0m \u001b[1;33m=\u001b[0m \u001b[0msentiment_140_df\u001b[0m\u001b[1;33m[\u001b[0m\u001b[1;34m'text'\u001b[0m\u001b[1;33m]\u001b[0m\u001b[1;33m.\u001b[0m\u001b[0mapply\u001b[0m\u001b[1;33m(\u001b[0m\u001b[1;32mlambda\u001b[0m \u001b[0mx\u001b[0m\u001b[1;33m:\u001b[0m \u001b[0mre\u001b[0m\u001b[1;33m.\u001b[0m\u001b[0mfindall\u001b[0m\u001b[1;33m(\u001b[0m\u001b[1;34m\"#[\\w]*\"\u001b[0m\u001b[1;33m,\u001b[0m \u001b[0mx\u001b[0m\u001b[1;33m)\u001b[0m\u001b[1;33m.\u001b[0m\u001b[0mlist\u001b[0m\u001b[1;33m)\u001b[0m\u001b[1;33m\u001b[0m\u001b[0m\n\u001b[0m",
      "\u001b[1;31mAttributeError\u001b[0m: 'list' object has no attribute 'list'"
     ]
    }
   ],
   "source": [
    "sentiment_140_df['hashtags'] = sentiment_140_df['text'].apply(lambda x: re.findall(\"#[\\w]*\", x))"
   ]
  },
  {
   "cell_type": "code",
   "execution_count": 15,
   "metadata": {},
   "outputs": [
    {
     "data": {
      "text/plain": [
       "[]                                                            774578\n",
       "[#fb]                                                         995   \n",
       "[#squarespace]                                                522   \n",
       "[#]                                                           458   \n",
       "[#iranelection]                                               213   \n",
       "[#inaperfectworld]                                            170   \n",
       "[#fail]                                                       164   \n",
       "[#1]                                                          155   \n",
       "[#iremember]                                                  134   \n",
       "[#2]                                                          119   \n",
       "[#BSB]                                                        111   \n",
       "[#asot400]                                                    110   \n",
       "[#followfriday]                                               103   \n",
       "[#dontyouhate]                                                96    \n",
       "[#haveyouever]                                                96    \n",
       "[#iPhone]                                                     81    \n",
       "[#f1]                                                         73    \n",
       "[#IranElection]                                               71    \n",
       "[#bgt]                                                        70    \n",
       "[#e3]                                                         64    \n",
       "[#iphone]                                                     61    \n",
       "[#spymaster]                                                  60    \n",
       "[#PakCricket]                                                 55    \n",
       "[#trackle]                                                    54    \n",
       "[#myweakness]                                                 53    \n",
       "[#peterfacinelli]                                             51    \n",
       "[#140conf]                                                    50    \n",
       "[#E3]                                                         50    \n",
       "[#FF]                                                         47    \n",
       "[#F1]                                                         47    \n",
       "                                                              ..    \n",
       "[#ABC]                                                        1     \n",
       "[#jizzinmypantz]                                              1     \n",
       "[#imsorry, #paynoattentionthen, #nerdgasm, #jizzinmypantz]    1     \n",
       "[#AngryMarks]                                                 1     \n",
       "[#BPark]                                                      1     \n",
       "[#drawingday]                                                 1     \n",
       "[#iPod]                                                       1     \n",
       "[#iPhone, #32gb]                                              1     \n",
       "[#steaktub]                                                   1     \n",
       "[#punetraffic]                                                1     \n",
       "[#FoVA_09]                                                    1     \n",
       "[#thisfuckingsucks]                                           1     \n",
       "[#neverendingsocialevents]                                    1     \n",
       "[#Honduras]                                                   1     \n",
       "[#family]                                                     1     \n",
       "[#Penguins, #Redwongs, #Redwings, #NHL]                       1     \n",
       "[#fullodumb]                                                  1     \n",
       "[#Titanic]                                                    1     \n",
       "[#streamyx]                                                   1     \n",
       "[#redcaps]                                                    1     \n",
       "[#Spiderman3, #FAIL]                                          1     \n",
       "[#mmva]                                                       1     \n",
       "[#verizont9fail]                                              1     \n",
       "[#tooattached]                                                1     \n",
       "[#40]                                                         1     \n",
       "[#46]                                                         1     \n",
       "[#beerandblog, #nofilterfriday]                               1     \n",
       "[#zines]                                                      1     \n",
       "[#SignsThatYourComputerIsAging]                               1     \n",
       "[#cheapspeakers]                                              1     \n",
       "Name: hashtags, Length: 7082, dtype: int64"
      ]
     },
     "execution_count": 15,
     "metadata": {},
     "output_type": "execute_result"
    }
   ],
   "source": [
    "sentiment_140_df[sentiment_140_df['label'] == 1]['hashtags'].value_counts()"
   ]
  },
  {
   "cell_type": "code",
   "execution_count": 24,
   "metadata": {},
   "outputs": [
    {
     "data": {
      "text/html": [
       "<div>\n",
       "<style scoped>\n",
       "    .dataframe tbody tr th:only-of-type {\n",
       "        vertical-align: middle;\n",
       "    }\n",
       "\n",
       "    .dataframe tbody tr th {\n",
       "        vertical-align: top;\n",
       "    }\n",
       "\n",
       "    .dataframe thead th {\n",
       "        text-align: right;\n",
       "    }\n",
       "</style>\n",
       "<table border=\"1\" class=\"dataframe\">\n",
       "  <thead>\n",
       "    <tr style=\"text-align: right;\">\n",
       "      <th></th>\n",
       "      <th>text</th>\n",
       "      <th>label</th>\n",
       "      <th>hashtags</th>\n",
       "    </tr>\n",
       "  </thead>\n",
       "  <tbody>\n",
       "  </tbody>\n",
       "</table>\n",
       "</div>"
      ],
      "text/plain": [
       "Empty DataFrame\n",
       "Columns: [text, label, hashtags]\n",
       "Index: []"
      ]
     },
     "execution_count": 24,
     "metadata": {},
     "output_type": "execute_result"
    }
   ],
   "source": [
    "sentiment_140_df[sentiment_140_df['hashtags'] == '[#iPhone]']"
   ]
  },
  {
   "cell_type": "code",
   "execution_count": 9,
   "metadata": {},
   "outputs": [],
   "source": [
    "#Potential test data\n",
    "#master_df['hashtags'] = master_df['text'].apply(lambda x: re.findall(\"#[\\w]*\", x))"
   ]
  },
  {
   "cell_type": "code",
   "execution_count": 11,
   "metadata": {},
   "outputs": [
    {
     "data": {
      "text/plain": [
       "[]                                                     49340\n",
       "[#]                                                    304  \n",
       "[#, #]                                                 76   \n",
       "[#followfriday]                                        34   \n",
       "[#1]                                                   33   \n",
       "[#2]                                                   23   \n",
       "[#fb]                                                  23   \n",
       "[#, #, #]                                              22   \n",
       "[#FFFFFF, #FFFFFF]                                     22   \n",
       "[#squarespace]                                         19   \n",
       "[#FF]                                                  10   \n",
       "[#, #, #, #]                                           9    \n",
       "[#, #, #, #, #]                                        9    \n",
       "[#BGT]                                                 7    \n",
       "[#ff]                                                  7    \n",
       "[#FollowFriday]                                        6    \n",
       "[#bgt]                                                 5    \n",
       "[#1, #2]                                               5    \n",
       "[#iremember]                                           5    \n",
       "[#myweakness]                                          5    \n",
       "[#iranelection]                                        5    \n",
       "[#musicmonday]                                         4    \n",
       "[#3]                                                   4    \n",
       "[#4]                                                   4    \n",
       "[#tcot]                                                3    \n",
       "[#f1]                                                  3    \n",
       "[#2, #1]                                               3    \n",
       "[#spymaster]                                           3    \n",
       "[#flylady]                                             3    \n",
       "[#trackle]                                             3    \n",
       "                                                      ..    \n",
       "[#strobist, #photo]                                    1    \n",
       "[#kindle2]                                             1    \n",
       "[#io2009, #googleio]                                   1    \n",
       "[#lebron]                                              1    \n",
       "[#ttiv]                                                1    \n",
       "[#MLUC09]                                              1    \n",
       "[#Adidas, #Billups, #Howard, #Marketing, #Branding]    1    \n",
       "[#mostvaluablepuppets]                                 1    \n",
       "[#googleio]                                            1    \n",
       "[#imgsearch, #ajax, #jquery, #webapp]                  1    \n",
       "[#javascript, #css, #jquery]                           1    \n",
       "[#jobs, #sittercity]                                   1    \n",
       "[#MBA]                                                 1    \n",
       "[#stanford, #socialentrepreneurship]                   1    \n",
       "[#webdesign]                                           1    \n",
       "[#GoogleIO]                                            1    \n",
       "[#startrek]                                            1    \n",
       "[#business, #china]                                    1    \n",
       "[#io2009, #wave]                                       1    \n",
       "[#Kindle2]                                             1    \n",
       "[#followsaturday]                                      1    \n",
       "[#greatdivide]                                         1    \n",
       "[#drought]                                             1    \n",
       "[#fathersday]                                          1    \n",
       "[#graze]                                               1    \n",
       "[#5D2]                                                 1    \n",
       "[#EdMcMahon]                                           1    \n",
       "[#LAFF]                                                1    \n",
       "[#iran, #tehran, #iranelection]                        1    \n",
       "[#fringe, #crochet]                                    1    \n",
       "Name: hashtags, Length: 502, dtype: int64"
      ]
     },
     "execution_count": 11,
     "metadata": {},
     "output_type": "execute_result"
    }
   ],
   "source": [
    "master_df['hashtags'].value_counts()"
   ]
  },
  {
   "cell_type": "code",
   "execution_count": 6,
   "metadata": {},
   "outputs": [
    {
     "data": {
      "text/plain": [
       "'!\"#$%&\\'()*+,-./:;<=>?@[\\\\]^_`{|}~'"
      ]
     },
     "execution_count": 6,
     "metadata": {},
     "output_type": "execute_result"
    }
   ],
   "source": [
    "string.punctuation"
   ]
  },
  {
   "cell_type": "code",
   "execution_count": null,
   "metadata": {},
   "outputs": [],
   "source": []
  },
  {
   "cell_type": "code",
   "execution_count": null,
   "metadata": {},
   "outputs": [],
   "source": []
  },
  {
   "cell_type": "code",
   "execution_count": null,
   "metadata": {},
   "outputs": [],
   "source": []
  },
  {
   "cell_type": "code",
   "execution_count": 9,
   "metadata": {},
   "outputs": [],
   "source": [
    "sample_df = master_df.tail(100).head(10)"
   ]
  },
  {
   "cell_type": "code",
   "execution_count": 27,
   "metadata": {},
   "outputs": [],
   "source": [
    "sample_df['clean_text'] = sample_df['text'].apply(lambda x: re.findall(\"@[\\w]*\", x))"
   ]
  },
  {
   "cell_type": "code",
   "execution_count": 28,
   "metadata": {},
   "outputs": [
    {
     "data": {
      "text/html": [
       "<div>\n",
       "<style scoped>\n",
       "    .dataframe tbody tr th:only-of-type {\n",
       "        vertical-align: middle;\n",
       "    }\n",
       "\n",
       "    .dataframe tbody tr th {\n",
       "        vertical-align: top;\n",
       "    }\n",
       "\n",
       "    .dataframe thead th {\n",
       "        text-align: right;\n",
       "    }\n",
       "</style>\n",
       "<table border=\"1\" class=\"dataframe\">\n",
       "  <thead>\n",
       "    <tr style=\"text-align: right;\">\n",
       "      <th></th>\n",
       "      <th>text</th>\n",
       "      <th>label</th>\n",
       "      <th>clean_text</th>\n",
       "    </tr>\n",
       "  </thead>\n",
       "  <tbody>\n",
       "    <tr>\n",
       "      <th>50398</th>\n",
       "      <td>Naive Bayes using EM for Text Classification. Really Frustrating...</td>\n",
       "      <td>1</td>\n",
       "      <td>[]</td>\n",
       "    </tr>\n",
       "    <tr>\n",
       "      <th>50399</th>\n",
       "      <td>@KarrisFoxy If you're being harassed by calls about your car warranty, changing your number won't fix that. They call every number. #d-bags</td>\n",
       "      <td>1</td>\n",
       "      <td>[@KarrisFoxy]</td>\n",
       "    </tr>\n",
       "    <tr>\n",
       "      <th>50400</th>\n",
       "      <td>Just blocked United Blood Services using Google Voice. They call more than those Car Warranty guys.</td>\n",
       "      <td>1</td>\n",
       "      <td>[]</td>\n",
       "    </tr>\n",
       "    <tr>\n",
       "      <th>50401</th>\n",
       "      <td>#at&amp;amp;t is complete fail.</td>\n",
       "      <td>1</td>\n",
       "      <td>[]</td>\n",
       "    </tr>\n",
       "    <tr>\n",
       "      <th>50402</th>\n",
       "      <td>@broskiii OH SNAP YOU WORK AT AT&amp;amp;T DON'T YOU</td>\n",
       "      <td>1</td>\n",
       "      <td>[@broskiii]</td>\n",
       "    </tr>\n",
       "  </tbody>\n",
       "</table>\n",
       "</div>"
      ],
      "text/plain": [
       "                                                                                                                                              text  \\\n",
       "50398  Naive Bayes using EM for Text Classification. Really Frustrating...                                                                           \n",
       "50399  @KarrisFoxy If you're being harassed by calls about your car warranty, changing your number won't fix that. They call every number. #d-bags   \n",
       "50400  Just blocked United Blood Services using Google Voice. They call more than those Car Warranty guys.                                           \n",
       "50401  #at&amp;t is complete fail.                                                                                                                   \n",
       "50402  @broskiii OH SNAP YOU WORK AT AT&amp;T DON'T YOU                                                                                              \n",
       "\n",
       "       label     clean_text  \n",
       "50398  1      []             \n",
       "50399  1      [@KarrisFoxy]  \n",
       "50400  1      []             \n",
       "50401  1      []             \n",
       "50402  1      [@broskiii]    "
      ]
     },
     "execution_count": 28,
     "metadata": {},
     "output_type": "execute_result"
    }
   ],
   "source": [
    "sample_df.head()"
   ]
  },
  {
   "cell_type": "code",
   "execution_count": 30,
   "metadata": {},
   "outputs": [],
   "source": [
    "master_df['clean_text'] = master_df['text'].apply(lambda x: re.findall(\"@[\\w]*\", x))"
   ]
  },
  {
   "cell_type": "code",
   "execution_count": 31,
   "metadata": {},
   "outputs": [
    {
     "data": {
      "text/plain": [
       "[]                              38254\n",
       "[@]                             169  \n",
       "[@mileycyrus]                   60   \n",
       "[@tommcfly]                     60   \n",
       "[@ddlovato]                     51   \n",
       "[@JonathanRKnight]              27   \n",
       "[@taylorswift13]                22   \n",
       "[@selenagomez]                  21   \n",
       "[@DavidArchie]                  20   \n",
       "[@Jonasbrothers]                19   \n",
       "[@mitchelmusso]                 18   \n",
       "[@YoungQ]                       17   \n",
       "[@, @]                          14   \n",
       "[@DonnieWahlberg]               14   \n",
       "[@jordanknight]                 13   \n",
       "[@peterfacinelli]               13   \n",
       "[@jonasbrothers]                10   \n",
       "[@hotmail]                      10   \n",
       "[@lilyroseallen]                10   \n",
       "[@souljaboytellem]              10   \n",
       "[@shaundiviney]                 9    \n",
       "[@MariahCarey]                  8    \n",
       "[@dannywood]                    8    \n",
       "[@dougiemcfly]                  8    \n",
       "[@trent_reznor]                 8    \n",
       "[@aplusk]                       8    \n",
       "[@officialTila]                 8    \n",
       "[@babygirlparis]                7    \n",
       "[@Alyssa_Milano]                7    \n",
       "[@gfalcone601]                  7    \n",
       "                               ..    \n",
       "[@yezzer]                       1    \n",
       "[@LloydDavis]                   1    \n",
       "[@sparkly72]                    1    \n",
       "[@FearMediocrity]               1    \n",
       "[@love7even]                    1    \n",
       "[@booshtukka]                   1    \n",
       "[@buddhapest]                   1    \n",
       "[@honk4peace, @ChubbyGayMan]    1    \n",
       "[@ruukaay]                      1    \n",
       "[@LALALEAHHH]                   1    \n",
       "[@so_xquisite]                  1    \n",
       "[@_scene_queen_]                1    \n",
       "[@AngelicWhite]                 1    \n",
       "[@AnnetteStatus]                1    \n",
       "[@aarongillespie]               1    \n",
       "[@chipcoffey]                   1    \n",
       "[@Jabulani9]                    1    \n",
       "[@Despairgirl]                  1    \n",
       "[@smackamara]                   1    \n",
       "[@ElHafiz]                      1    \n",
       "[@louise__]                     1    \n",
       "[@JTKates52]                    1    \n",
       "[@KrystalAuroraaa]              1    \n",
       "[@TheChristinaKim]              1    \n",
       "[@CulturalSnow]                 1    \n",
       "[@stambo_nz]                    1    \n",
       "[@xScarlett_x]                  1    \n",
       "[@rpringle]                     1    \n",
       "[@wishing4one]                  1    \n",
       "[@JeralDavis]                   1    \n",
       "Name: clean_text, Length: 10849, dtype: int64"
      ]
     },
     "execution_count": 31,
     "metadata": {},
     "output_type": "execute_result"
    }
   ],
   "source": [
    "master_df['clean_text'].value_counts()"
   ]
  },
  {
   "cell_type": "code",
   "execution_count": 4,
   "metadata": {},
   "outputs": [],
   "source": [
    "sentiment_140_df['tags'] = sentiment_140_df['text'].apply(lambda x: re.findall(\"@[\\w]*\", x))"
   ]
  },
  {
   "cell_type": "code",
   "execution_count": null,
   "metadata": {},
   "outputs": [],
   "source": [
    "sentiment_140_df['tags'].value_counts()"
   ]
  },
  {
   "cell_type": "code",
   "execution_count": null,
   "metadata": {},
   "outputs": [],
   "source": [
    "sentiment_140_df[sentiment_140_df['label'] == 0]['tags'].value_counts()"
   ]
  },
  {
   "cell_type": "code",
   "execution_count": null,
   "metadata": {},
   "outputs": [],
   "source": []
  },
  {
   "cell_type": "code",
   "execution_count": null,
   "metadata": {},
   "outputs": [],
   "source": []
  },
  {
   "cell_type": "code",
   "execution_count": null,
   "metadata": {},
   "outputs": [],
   "source": []
  },
  {
   "cell_type": "code",
   "execution_count": 39,
   "metadata": {},
   "outputs": [],
   "source": [
    "s=\"haaaappppyy\""
   ]
  },
  {
   "cell_type": "code",
   "execution_count": 45,
   "metadata": {},
   "outputs": [
    {
     "data": {
      "text/plain": [
       "'haaaappppyy'"
      ]
     },
     "execution_count": 45,
     "metadata": {},
     "output_type": "execute_result"
    }
   ],
   "source": [
    "reduce(lambda x,y: x+y,s)"
   ]
  },
  {
   "cell_type": "code",
   "execution_count": 24,
   "metadata": {},
   "outputs": [
    {
     "data": {
      "text/plain": [
       "'haappyy'"
      ]
     },
     "execution_count": 24,
     "metadata": {},
     "output_type": "execute_result"
    }
   ],
   "source": [
    "reduce(lambda x,y: x+y if x[-2:]!=y*2 else x, s, \"\")\n"
   ]
  },
  {
   "cell_type": "code",
   "execution_count": null,
   "metadata": {},
   "outputs": [],
   "source": [
    "reduce(lambda x,y: x+y if x[-2:]!=y*2 else x, s, \"\")\n",
    "'haappyy'"
   ]
  }
 ],
 "metadata": {
  "kernelspec": {
   "display_name": "Python 3",
   "language": "python",
   "name": "python3"
  },
  "language_info": {
   "codemirror_mode": {
    "name": "ipython",
    "version": 3
   },
   "file_extension": ".py",
   "mimetype": "text/x-python",
   "name": "python",
   "nbconvert_exporter": "python",
   "pygments_lexer": "ipython3",
   "version": "3.7.0"
  }
 },
 "nbformat": 4,
 "nbformat_minor": 2
}
