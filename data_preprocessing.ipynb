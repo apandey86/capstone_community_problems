{
 "cells": [
  {
   "cell_type": "code",
   "execution_count": 1,
   "metadata": {},
   "outputs": [],
   "source": [
    "import pandas as pd\n",
    "pd.set_option('display.max_colwidth', 0) #To display entire text content of a column\n",
    "import numpy as np\n",
    "import seaborn as sns\n",
    "import matplotlib.pyplot as plt\n",
    "%matplotlib inline\n",
    "%config InlineBackend.figure_format='retina'\n",
    "from sklearn.model_selection import train_test_split\n",
    "import os"
   ]
  },
  {
   "cell_type": "code",
   "execution_count": 5,
   "metadata": {},
   "outputs": [],
   "source": [
    "os.chdir('D:\\capstone_data')"
   ]
  },
  {
   "cell_type": "code",
   "execution_count": 8,
   "metadata": {},
   "outputs": [
    {
     "name": "stderr",
     "output_type": "stream",
     "text": [
      "C:\\Users\\Anuroop\\Anaconda3\\lib\\site-packages\\IPython\\core\\interactiveshell.py:2785: DtypeWarning: Columns (1) have mixed types. Specify dtype option on import or set low_memory=False.\n",
      "  interactivity=interactivity, compiler=compiler, result=result)\n"
     ]
    }
   ],
   "source": [
    "#reading csv for each dataset\n",
    "sentiment_140_df = pd.read_csv('processed_csv/sentiment140_processed.csv')\n",
    "sentiment_140_neutlabels =  pd.read_csv('processed_csv/sentiment140_neutlabels.csv')\n",
    "consumer_complaints_df = pd.read_csv('processed_csv/consumer_complaints_processed.csv')\n",
    "amazonreviews_df = pd.read_csv('processed_csv/amazonreviews_extract.csv')"
   ]
  },
  {
   "cell_type": "code",
   "execution_count": 13,
   "metadata": {},
   "outputs": [
    {
     "name": "stdout",
     "output_type": "stream",
     "text": [
      "Number of Duplicate rows in sentiment_140_df is 16309 i.e. 1.0%\n",
      "\n",
      "Number of Duplicate rows in sentiment_140_neutlabels is 0 i.e. 0.0%\n",
      "\n",
      "Number of Duplicate rows in consumer_complaints_df is 4653 i.e. 2.0%\n",
      "\n",
      "Number of Duplicate rows in amazonreviews_df is 480721 i.e. 43.0%\n",
      "\n"
     ]
    }
   ],
   "source": [
    "#Verifying duplicate rows within each df\n",
    "print (f\"Number of Duplicate rows in sentiment_140_df is {sentiment_140_df.duplicated().sum()} i.e. {round(sentiment_140_df.duplicated().mean(),2)*100}%\\n\")\n",
    "print (f\"Number of Duplicate rows in sentiment_140_neutlabels is {sentiment_140_neutlabels.duplicated().sum()} i.e. {round(sentiment_140_neutlabels.duplicated().mean(),2)*100}%\\n\")\n",
    "print (f\"Number of Duplicate rows in consumer_complaints_df is {consumer_complaints_df.duplicated().sum()} i.e. {round(consumer_complaints_df.duplicated().mean(),2)*100}%\\n\")\n",
    "print (f\"Number of Duplicate rows in amazonreviews_df is {amazonreviews_df.duplicated().sum()} i.e. {round(amazonreviews_df.duplicated().mean(),2)*100}%\\n\")"
   ]
  },
  {
   "cell_type": "markdown",
   "metadata": {},
   "source": [
    "Except for sentiment_140_neutlabels, all datasets have duplicated rows. Percentage is however low, less than 3%, for sentiment 140 and consumer complaints. However, Amazon reviews dataset has 43% duplicates. Since reviews cannot be imputed and we anyways have more than 2 million data points for our model, we will just delete all duplicated rows."
   ]
  },
  {
   "cell_type": "code",
   "execution_count": 15,
   "metadata": {},
   "outputs": [],
   "source": [
    "#Drop duplicates\n",
    "sentiment_140_df.drop_duplicates(inplace = True)\n",
    "consumer_complaints_df.drop_duplicates(inplace = True)\n",
    "amazonreviews_df.drop_duplicates(inplace = True)"
   ]
  },
  {
   "cell_type": "code",
   "execution_count": 16,
   "metadata": {},
   "outputs": [
    {
     "name": "stdout",
     "output_type": "stream",
     "text": [
      "Number of Duplicate rows in sentiment_140_df is 0 i.e. 0.0%\n",
      "\n",
      "Number of Duplicate rows in sentiment_140_neutlabels is 0 i.e. 0.0%\n",
      "\n",
      "Number of Duplicate rows in consumer_complaints_df is 0 i.e. 0.0%\n",
      "\n",
      "Number of Duplicate rows in amazonreviews_df is 0 i.e. 0.0%\n",
      "\n"
     ]
    }
   ],
   "source": [
    "#Verify\n",
    "print (f\"Number of Duplicate rows in sentiment_140_df is {sentiment_140_df.duplicated().sum()} i.e. {round(sentiment_140_df.duplicated().mean(),2)*100}%\\n\")\n",
    "print (f\"Number of Duplicate rows in sentiment_140_neutlabels is {sentiment_140_neutlabels.duplicated().sum()} i.e. {round(sentiment_140_neutlabels.duplicated().mean(),2)*100}%\\n\")\n",
    "print (f\"Number of Duplicate rows in consumer_complaints_df is {consumer_complaints_df.duplicated().sum()} i.e. {round(consumer_complaints_df.duplicated().mean(),2)*100}%\\n\")\n",
    "print (f\"Number of Duplicate rows in amazonreviews_df is {amazonreviews_df.duplicated().sum()} i.e. {round(amazonreviews_df.duplicated().mean(),2)*100}%\\n\")"
   ]
  },
  {
   "cell_type": "markdown",
   "metadata": {},
   "source": [
    "`amazonreviews_df` still does not have a label column rather than rating. All ratings below 3 will be labelled as 1 i.e. greivances and ratings from 3 through 5 will be labelled 0 i.e. non greivances."
   ]
  },
  {
   "cell_type": "code",
   "execution_count": 21,
   "metadata": {},
   "outputs": [
    {
     "data": {
      "text/plain": [
       "5.0     244493\n",
       "4.0     92245 \n",
       "5.0     91604 \n",
       "1.0     47403 \n",
       "4.0     35060 \n",
       "3.0     34820 \n",
       "1.0     32773 \n",
       "2.0     26018 \n",
       "3.0     17512 \n",
       "2.0     13876 \n",
       "None    1     \n",
       "Name: Overall, dtype: int64"
      ]
     },
     "execution_count": 21,
     "metadata": {},
     "output_type": "execute_result"
    }
   ],
   "source": [
    "#Creating labels for amazonreviews_df:\n",
    "#distinct ratings count\n",
    "amazonreviews_df['Overall'].value_counts()"
   ]
  },
  {
   "cell_type": "markdown",
   "metadata": {},
   "source": [
    "It can be seen that same rating points are being treated as separate entities i.e. rating is probably being read as labels. This column has to be converted to numeric."
   ]
  },
  {
   "cell_type": "code",
   "execution_count": 22,
   "metadata": {},
   "outputs": [],
   "source": [
    "#Dropping None value\n",
    "amazonreviews_df.dropna(axis = 0, inplace = True)"
   ]
  },
  {
   "cell_type": "code",
   "execution_count": 28,
   "metadata": {},
   "outputs": [
    {
     "data": {
      "text/plain": [
       "5.0    336095\n",
       "4.0    127303\n",
       "1.0    80174 \n",
       "3.0    52330 \n",
       "2.0    39892 \n",
       "Name: Overall, dtype: int64"
      ]
     },
     "execution_count": 28,
     "metadata": {},
     "output_type": "execute_result"
    }
   ],
   "source": [
    "#Convert to float and verify\n",
    "amazonreviews_df['Overall'] = amazonreviews_df['Overall'].astype('float')\n",
    "amazonreviews_df['Overall'].value_counts()"
   ]
  },
  {
   "cell_type": "code",
   "execution_count": 35,
   "metadata": {},
   "outputs": [
    {
     "data": {
      "text/html": [
       "<div>\n",
       "<style scoped>\n",
       "    .dataframe tbody tr th:only-of-type {\n",
       "        vertical-align: middle;\n",
       "    }\n",
       "\n",
       "    .dataframe tbody tr th {\n",
       "        vertical-align: top;\n",
       "    }\n",
       "\n",
       "    .dataframe thead th {\n",
       "        text-align: right;\n",
       "    }\n",
       "</style>\n",
       "<table border=\"1\" class=\"dataframe\">\n",
       "  <thead>\n",
       "    <tr style=\"text-align: right;\">\n",
       "      <th></th>\n",
       "      <th>Content</th>\n",
       "      <th>Overall</th>\n",
       "      <th>label</th>\n",
       "    </tr>\n",
       "  </thead>\n",
       "  <tbody>\n",
       "    <tr>\n",
       "      <th>1116493</th>\n",
       "      <td>After looking over different brands of IP camera and finally found this, it looks great and the spec of is better than many other IP camera at the same price.follow up:3/29/2014: after receiving the camera, I open up the box and the Camera looks nice.I set up the camera right out of box,the whole process was very easy, just follow the instruction that come with the camera. it took me a about 10 minutes to set  every things up plus download  the app on App Store. I control the camera with my Ipad 2 and  it works great in the bright and dark. from this point I did not see any issue with this camera, but I will keep update my review about this product in future.</td>\n",
       "      <td>5.0</td>\n",
       "      <td>0</td>\n",
       "    </tr>\n",
       "  </tbody>\n",
       "</table>\n",
       "</div>"
      ],
      "text/plain": [
       "                                                                                                                                                                                                                                                                                                                                                                                                                                                                                                                                                                                                                                                                                             Content  \\\n",
       "1116493  After looking over different brands of IP camera and finally found this, it looks great and the spec of is better than many other IP camera at the same price.follow up:3/29/2014: after receiving the camera, I open up the box and the Camera looks nice.I set up the camera right out of box,the whole process was very easy, just follow the instruction that come with the camera. it took me a about 10 minutes to set  every things up plus download  the app on App Store. I control the camera with my Ipad 2 and  it works great in the bright and dark. from this point I did not see any issue with this camera, but I will keep update my review about this product in future.   \n",
       "\n",
       "         Overall  label  \n",
       "1116493  5.0      0      "
      ]
     },
     "execution_count": 35,
     "metadata": {},
     "output_type": "execute_result"
    }
   ],
   "source": [
    "#Create labels <= 2 = 1, >2 =0\n",
    "amazonreviews_df['label'] = np.where(amazonreviews_df['Overall'] \n",
    "                                                      <= 2.0, 1, 0)\n",
    "amazonreviews_df.tail(1)"
   ]
  },
  {
   "cell_type": "code",
   "execution_count": 37,
   "metadata": {},
   "outputs": [
    {
     "data": {
      "text/plain": [
       "0    515728\n",
       "1    120066\n",
       "Name: label, dtype: int64"
      ]
     },
     "execution_count": 37,
     "metadata": {},
     "output_type": "execute_result"
    }
   ],
   "source": [
    "#Verify counts 0 = 336095 + 127303 + 52330 = 515,728, 1 = 120,066\n",
    "amazonreviews_df['label'].value_counts()\n",
    "#Counts match"
   ]
  },
  {
   "cell_type": "code",
   "execution_count": 38,
   "metadata": {},
   "outputs": [],
   "source": [
    "#Drop overall column\n",
    "amazonreviews_df.drop(columns = ['Overall'], inplace = True)"
   ]
  },
  {
   "cell_type": "code",
   "execution_count": 40,
   "metadata": {},
   "outputs": [],
   "source": [
    "#Write to csv \n",
    "amazonreviews_df.to_csv('processed_csv/amazonreviews_with_label.csv', index = False)"
   ]
  },
  {
   "cell_type": "code",
   "execution_count": 43,
   "metadata": {},
   "outputs": [
    {
     "data": {
      "text/html": [
       "<div>\n",
       "<style scoped>\n",
       "    .dataframe tbody tr th:only-of-type {\n",
       "        vertical-align: middle;\n",
       "    }\n",
       "\n",
       "    .dataframe tbody tr th {\n",
       "        vertical-align: top;\n",
       "    }\n",
       "\n",
       "    .dataframe thead th {\n",
       "        text-align: right;\n",
       "    }\n",
       "</style>\n",
       "<table border=\"1\" class=\"dataframe\">\n",
       "  <thead>\n",
       "    <tr style=\"text-align: right;\">\n",
       "      <th></th>\n",
       "      <th>Content</th>\n",
       "      <th>label</th>\n",
       "    </tr>\n",
       "  </thead>\n",
       "  <tbody>\n",
       "    <tr>\n",
       "      <th>1116489</th>\n",
       "      <td>The pen was not sent with accessories, such as the manual, and the connector for charging.  Additional image of the video camera is not very good</td>\n",
       "      <td>1</td>\n",
       "    </tr>\n",
       "    <tr>\n",
       "      <th>1116490</th>\n",
       "      <td>I just received this item and discovered it had no usb cable, meaning I can't charge it, and no 8gb memory card, which renders it useless even if I could charge it. So my actual review is zero stars, because this is what the advertising says, \"Spy Pen Comes w/ Everything You NEED In An Awesome Black Drawstring Pouch!\"</td>\n",
       "      <td>1</td>\n",
       "    </tr>\n",
       "    <tr>\n",
       "      <th>1116491</th>\n",
       "      <td>It looks grt, and could not wait for using it. I want to use it everyday, I think this is high lvl technology.</td>\n",
       "      <td>0</td>\n",
       "    </tr>\n",
       "    <tr>\n",
       "      <th>1116492</th>\n",
       "      <td>Based on the specs and description, this camera should be very easy to set up, and valuable to use for monitoring. I wanna try the motion detection alarm with photos I receive of activity it detects. You can't beat it for the price anywhere! Video quality looks excellent.</td>\n",
       "      <td>0</td>\n",
       "    </tr>\n",
       "    <tr>\n",
       "      <th>1116493</th>\n",
       "      <td>After looking over different brands of IP camera and finally found this, it looks great and the spec of is better than many other IP camera at the same price.follow up:3/29/2014: after receiving the camera, I open up the box and the Camera looks nice.I set up the camera right out of box,the whole process was very easy, just follow the instruction that come with the camera. it took me a about 10 minutes to set  every things up plus download  the app on App Store. I control the camera with my Ipad 2 and  it works great in the bright and dark. from this point I did not see any issue with this camera, but I will keep update my review about this product in future.</td>\n",
       "      <td>0</td>\n",
       "    </tr>\n",
       "  </tbody>\n",
       "</table>\n",
       "</div>"
      ],
      "text/plain": [
       "                                                                                                                                                                                                                                                                                                                                                                                                                                                                                                                                                                                                                                                                                             Content  \\\n",
       "1116489  The pen was not sent with accessories, such as the manual, and the connector for charging.  Additional image of the video camera is not very good                                                                                                                                                                                                                                                                                                                                                                                                                                                                                                                                             \n",
       "1116490  I just received this item and discovered it had no usb cable, meaning I can't charge it, and no 8gb memory card, which renders it useless even if I could charge it. So my actual review is zero stars, because this is what the advertising says, \"Spy Pen Comes w/ Everything You NEED In An Awesome Black Drawstring Pouch!\"                                                                                                                                                                                                                                                                                                                                                               \n",
       "1116491  It looks grt, and could not wait for using it. I want to use it everyday, I think this is high lvl technology.                                                                                                                                                                                                                                                                                                                                                                                                                                                                                                                                                                                \n",
       "1116492  Based on the specs and description, this camera should be very easy to set up, and valuable to use for monitoring. I wanna try the motion detection alarm with photos I receive of activity it detects. You can't beat it for the price anywhere! Video quality looks excellent.                                                                                                                                                                                                                                                                                                                                                                                                              \n",
       "1116493  After looking over different brands of IP camera and finally found this, it looks great and the spec of is better than many other IP camera at the same price.follow up:3/29/2014: after receiving the camera, I open up the box and the Camera looks nice.I set up the camera right out of box,the whole process was very easy, just follow the instruction that come with the camera. it took me a about 10 minutes to set  every things up plus download  the app on App Store. I control the camera with my Ipad 2 and  it works great in the bright and dark. from this point I did not see any issue with this camera, but I will keep update my review about this product in future.   \n",
       "\n",
       "         label  \n",
       "1116489  1      \n",
       "1116490  1      \n",
       "1116491  0      \n",
       "1116492  0      \n",
       "1116493  0      "
      ]
     },
     "execution_count": 43,
     "metadata": {},
     "output_type": "execute_result"
    }
   ],
   "source": [
    "amazonreviews_df.tail()"
   ]
  },
  {
   "cell_type": "markdown",
   "metadata": {},
   "source": [
    "# Create master df\n",
    "Total observations = 50,000\n",
    "<br>0 = 25,000, 15,000 from sentiment 140, 10,000 from amazon reviews\n",
    "<br>1 = 25,000, 15,000 from sentiment 140, 6000 from consumer complaints, 9000 from amazon reviews\n",
    "<br> all observations from sentiment 140_neutlabels"
   ]
  },
  {
   "cell_type": "code",
   "execution_count": null,
   "metadata": {},
   "outputs": [],
   "source": [
    "Extract "
   ]
  },
  {
   "cell_type": "code",
   "execution_count": null,
   "metadata": {},
   "outputs": [],
   "source": []
  }
 ],
 "metadata": {
  "kernelspec": {
   "display_name": "Python 3",
   "language": "python",
   "name": "python3"
  },
  "language_info": {
   "codemirror_mode": {
    "name": "ipython",
    "version": 3
   },
   "file_extension": ".py",
   "mimetype": "text/x-python",
   "name": "python",
   "nbconvert_exporter": "python",
   "pygments_lexer": "ipython3",
   "version": "3.7.0"
  }
 },
 "nbformat": 4,
 "nbformat_minor": 2
}
